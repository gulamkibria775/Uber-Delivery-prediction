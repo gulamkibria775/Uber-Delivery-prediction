{
 "cells": [
  {
   "cell_type": "code",
   "execution_count": 1,
   "id": "51cb81fb",
   "metadata": {},
   "outputs": [],
   "source": [
    "import pandas as pd\n",
    "import numpy as np\n",
    "\n",
    "from sklearn.preprocessing import OneHotEncoder\n",
    "from sklearn.compose import ColumnTransformer\n",
    "from sklearn.linear_model import LinearRegression, Ridge\n",
    "from sklearn.pipeline import Pipeline\n",
    "from sklearn.metrics import mean_absolute_percentage_error\n",
    "from sklearn.svm import SVR\n",
    "\n",
    "from sklearn.ensemble import RandomForestRegressor, GradientBoostingRegressor\n",
    "from xgboost import XGBRegressor\n",
    "\n",
    "import mlflow"
   ]
  },
  {
   "cell_type": "code",
   "execution_count": 2,
   "id": "f7902631",
   "metadata": {},
   "outputs": [],
   "source": [
    "mlflow.set_tracking_uri(\"https://dagshub.com/gulamkibria775/Uber-Delivery-prediction.mlflow\")"
   ]
  },
  {
   "cell_type": "code",
   "execution_count": 3,
   "id": "3cb92bc5",
   "metadata": {},
   "outputs": [
    {
     "data": {
      "text/html": [
       "<pre style=\"white-space:pre;overflow-x:auto;line-height:normal;font-family:Menlo,'DejaVu Sans Mono',consolas,'Courier New',monospace\">Accessing as gulamkibria775\n",
       "</pre>\n"
      ],
      "text/plain": [
       "Accessing as gulamkibria775\n"
      ]
     },
     "metadata": {},
     "output_type": "display_data"
    },
    {
     "data": {
      "text/html": [
       "<pre style=\"white-space:pre;overflow-x:auto;line-height:normal;font-family:Menlo,'DejaVu Sans Mono',consolas,'Courier New',monospace\">Initialized MLflow to track repo <span style=\"color: #008000; text-decoration-color: #008000\">\"gulamkibria775/Uber-Delivery-prediction\"</span>\n",
       "</pre>\n"
      ],
      "text/plain": [
       "Initialized MLflow to track repo \u001b[32m\"gulamkibria775/Uber-Delivery-prediction\"\u001b[0m\n"
      ]
     },
     "metadata": {},
     "output_type": "display_data"
    },
    {
     "data": {
      "text/html": [
       "<pre style=\"white-space:pre;overflow-x:auto;line-height:normal;font-family:Menlo,'DejaVu Sans Mono',consolas,'Courier New',monospace\">Repository gulamkibria775/Uber-Delivery-prediction initialized!\n",
       "</pre>\n"
      ],
      "text/plain": [
       "Repository gulamkibria775/Uber-Delivery-prediction initialized!\n"
      ]
     },
     "metadata": {},
     "output_type": "display_data"
    }
   ],
   "source": [
    "import dagshub\n",
    "dagshub.init(repo_owner='gulamkibria775', repo_name='Uber-Delivery-prediction', mlflow=True)"
   ]
  },
  {
   "cell_type": "code",
   "execution_count": 4,
   "id": "8e6079d7",
   "metadata": {},
   "outputs": [
    {
     "data": {
      "text/html": [
       "<div>\n",
       "<style scoped>\n",
       "    .dataframe tbody tr th:only-of-type {\n",
       "        vertical-align: middle;\n",
       "    }\n",
       "\n",
       "    .dataframe tbody tr th {\n",
       "        vertical-align: top;\n",
       "    }\n",
       "\n",
       "    .dataframe thead th {\n",
       "        text-align: right;\n",
       "    }\n",
       "</style>\n",
       "<table border=\"1\" class=\"dataframe\">\n",
       "  <thead>\n",
       "    <tr style=\"text-align: right;\">\n",
       "      <th></th>\n",
       "      <th>lag_1</th>\n",
       "      <th>lag_2</th>\n",
       "      <th>lag_3</th>\n",
       "      <th>lag_4</th>\n",
       "      <th>region</th>\n",
       "      <th>total_pickups</th>\n",
       "      <th>avg_pickups</th>\n",
       "      <th>day_of_week</th>\n",
       "    </tr>\n",
       "    <tr>\n",
       "      <th>tpep_pickup_datetime</th>\n",
       "      <th></th>\n",
       "      <th></th>\n",
       "      <th></th>\n",
       "      <th></th>\n",
       "      <th></th>\n",
       "      <th></th>\n",
       "      <th></th>\n",
       "      <th></th>\n",
       "    </tr>\n",
       "  </thead>\n",
       "  <tbody>\n",
       "    <tr>\n",
       "      <th>2016-01-01 01:00:00</th>\n",
       "      <td>160.0</td>\n",
       "      <td>149.0</td>\n",
       "      <td>120.0</td>\n",
       "      <td>58.0</td>\n",
       "      <td>0</td>\n",
       "      <td>187</td>\n",
       "      <td>161.0</td>\n",
       "      <td>4</td>\n",
       "    </tr>\n",
       "    <tr>\n",
       "      <th>2016-01-01 01:15:00</th>\n",
       "      <td>187.0</td>\n",
       "      <td>160.0</td>\n",
       "      <td>149.0</td>\n",
       "      <td>120.0</td>\n",
       "      <td>0</td>\n",
       "      <td>194</td>\n",
       "      <td>175.0</td>\n",
       "      <td>4</td>\n",
       "    </tr>\n",
       "    <tr>\n",
       "      <th>2016-01-01 01:30:00</th>\n",
       "      <td>194.0</td>\n",
       "      <td>187.0</td>\n",
       "      <td>160.0</td>\n",
       "      <td>149.0</td>\n",
       "      <td>0</td>\n",
       "      <td>180</td>\n",
       "      <td>177.0</td>\n",
       "      <td>4</td>\n",
       "    </tr>\n",
       "    <tr>\n",
       "      <th>2016-01-01 01:45:00</th>\n",
       "      <td>180.0</td>\n",
       "      <td>194.0</td>\n",
       "      <td>187.0</td>\n",
       "      <td>160.0</td>\n",
       "      <td>0</td>\n",
       "      <td>197</td>\n",
       "      <td>185.0</td>\n",
       "      <td>4</td>\n",
       "    </tr>\n",
       "    <tr>\n",
       "      <th>2016-01-01 02:00:00</th>\n",
       "      <td>197.0</td>\n",
       "      <td>180.0</td>\n",
       "      <td>194.0</td>\n",
       "      <td>187.0</td>\n",
       "      <td>0</td>\n",
       "      <td>185</td>\n",
       "      <td>185.0</td>\n",
       "      <td>4</td>\n",
       "    </tr>\n",
       "    <tr>\n",
       "      <th>...</th>\n",
       "      <td>...</td>\n",
       "      <td>...</td>\n",
       "      <td>...</td>\n",
       "      <td>...</td>\n",
       "      <td>...</td>\n",
       "      <td>...</td>\n",
       "      <td>...</td>\n",
       "      <td>...</td>\n",
       "    </tr>\n",
       "    <tr>\n",
       "      <th>2016-02-29 22:45:00</th>\n",
       "      <td>15.0</td>\n",
       "      <td>9.0</td>\n",
       "      <td>11.0</td>\n",
       "      <td>11.0</td>\n",
       "      <td>29</td>\n",
       "      <td>12</td>\n",
       "      <td>12.0</td>\n",
       "      <td>0</td>\n",
       "    </tr>\n",
       "    <tr>\n",
       "      <th>2016-02-29 23:00:00</th>\n",
       "      <td>12.0</td>\n",
       "      <td>15.0</td>\n",
       "      <td>9.0</td>\n",
       "      <td>11.0</td>\n",
       "      <td>29</td>\n",
       "      <td>17</td>\n",
       "      <td>14.0</td>\n",
       "      <td>0</td>\n",
       "    </tr>\n",
       "    <tr>\n",
       "      <th>2016-02-29 23:15:00</th>\n",
       "      <td>17.0</td>\n",
       "      <td>12.0</td>\n",
       "      <td>15.0</td>\n",
       "      <td>9.0</td>\n",
       "      <td>29</td>\n",
       "      <td>15</td>\n",
       "      <td>14.0</td>\n",
       "      <td>0</td>\n",
       "    </tr>\n",
       "    <tr>\n",
       "      <th>2016-02-29 23:30:00</th>\n",
       "      <td>15.0</td>\n",
       "      <td>17.0</td>\n",
       "      <td>12.0</td>\n",
       "      <td>15.0</td>\n",
       "      <td>29</td>\n",
       "      <td>15</td>\n",
       "      <td>15.0</td>\n",
       "      <td>0</td>\n",
       "    </tr>\n",
       "    <tr>\n",
       "      <th>2016-02-29 23:45:00</th>\n",
       "      <td>15.0</td>\n",
       "      <td>15.0</td>\n",
       "      <td>17.0</td>\n",
       "      <td>12.0</td>\n",
       "      <td>29</td>\n",
       "      <td>12</td>\n",
       "      <td>14.0</td>\n",
       "      <td>0</td>\n",
       "    </tr>\n",
       "  </tbody>\n",
       "</table>\n",
       "<p>172680 rows × 8 columns</p>\n",
       "</div>"
      ],
      "text/plain": [
       "                      lag_1  lag_2  lag_3  lag_4  region  total_pickups  \\\n",
       "tpep_pickup_datetime                                                      \n",
       "2016-01-01 01:00:00   160.0  149.0  120.0   58.0       0            187   \n",
       "2016-01-01 01:15:00   187.0  160.0  149.0  120.0       0            194   \n",
       "2016-01-01 01:30:00   194.0  187.0  160.0  149.0       0            180   \n",
       "2016-01-01 01:45:00   180.0  194.0  187.0  160.0       0            197   \n",
       "2016-01-01 02:00:00   197.0  180.0  194.0  187.0       0            185   \n",
       "...                     ...    ...    ...    ...     ...            ...   \n",
       "2016-02-29 22:45:00    15.0    9.0   11.0   11.0      29             12   \n",
       "2016-02-29 23:00:00    12.0   15.0    9.0   11.0      29             17   \n",
       "2016-02-29 23:15:00    17.0   12.0   15.0    9.0      29             15   \n",
       "2016-02-29 23:30:00    15.0   17.0   12.0   15.0      29             15   \n",
       "2016-02-29 23:45:00    15.0   15.0   17.0   12.0      29             12   \n",
       "\n",
       "                      avg_pickups  day_of_week  \n",
       "tpep_pickup_datetime                            \n",
       "2016-01-01 01:00:00         161.0            4  \n",
       "2016-01-01 01:15:00         175.0            4  \n",
       "2016-01-01 01:30:00         177.0            4  \n",
       "2016-01-01 01:45:00         185.0            4  \n",
       "2016-01-01 02:00:00         185.0            4  \n",
       "...                           ...          ...  \n",
       "2016-02-29 22:45:00          12.0            0  \n",
       "2016-02-29 23:00:00          14.0            0  \n",
       "2016-02-29 23:15:00          14.0            0  \n",
       "2016-02-29 23:30:00          15.0            0  \n",
       "2016-02-29 23:45:00          14.0            0  \n",
       "\n",
       "[172680 rows x 8 columns]"
      ]
     },
     "execution_count": 4,
     "metadata": {},
     "output_type": "execute_result"
    }
   ],
   "source": [
    "# load the training and test data\n",
    "\n",
    "train_data_path = \"../data/processed/train.csv\"\n",
    "test_data_path = \"../data/processed/test.csv\"\n",
    "\n",
    "train_df = pd.read_csv(train_data_path, parse_dates=[\"tpep_pickup_datetime\"]).set_index(\"tpep_pickup_datetime\")\n",
    "\n",
    "test_df = pd.read_csv(test_data_path, parse_dates=[\"tpep_pickup_datetime\"]).set_index(\"tpep_pickup_datetime\")\n",
    "\n",
    "train_df"
   ]
  },
  {
   "cell_type": "code",
   "execution_count": 5,
   "id": "bcc42e62",
   "metadata": {},
   "outputs": [
    {
     "data": {
      "text/plain": [
       "lag_1            0\n",
       "lag_2            0\n",
       "lag_3            0\n",
       "lag_4            0\n",
       "region           0\n",
       "total_pickups    0\n",
       "avg_pickups      0\n",
       "day_of_week      0\n",
       "dtype: int64"
      ]
     },
     "execution_count": 5,
     "metadata": {},
     "output_type": "execute_result"
    }
   ],
   "source": [
    "# missing value in training data\n",
    "\n",
    "train_df.isna().sum()"
   ]
  },
  {
   "cell_type": "code",
   "execution_count": 6,
   "id": "3a0bb286",
   "metadata": {},
   "outputs": [
    {
     "data": {
      "text/plain": [
       "lag_1            0\n",
       "lag_2            0\n",
       "lag_3            0\n",
       "lag_4            0\n",
       "region           0\n",
       "total_pickups    0\n",
       "avg_pickups      0\n",
       "day_of_week      0\n",
       "dtype: int64"
      ]
     },
     "execution_count": 6,
     "metadata": {},
     "output_type": "execute_result"
    }
   ],
   "source": [
    "# missing values in the test data\n",
    "\n",
    "test_df.isna().sum()"
   ]
  },
  {
   "cell_type": "code",
   "execution_count": 7,
   "id": "08c01204",
   "metadata": {},
   "outputs": [],
   "source": [
    "# make X_train and y_train\n",
    "\n",
    "X_train = train_df.drop(columns=[\"total_pickups\"])\n",
    "\n",
    "y_train = train_df[\"total_pickups\"]"
   ]
  },
  {
   "cell_type": "code",
   "execution_count": 8,
   "id": "31695469",
   "metadata": {},
   "outputs": [],
   "source": [
    "\n",
    "\n",
    "# make X_test and y_test\n",
    "\n",
    "X_test = test_df.drop(columns=[\"total_pickups\"])\n",
    "\n",
    "y_test = test_df[\"total_pickups\"]\n",
    "\n"
   ]
  },
  {
   "cell_type": "code",
   "execution_count": 9,
   "id": "3cb7a59e",
   "metadata": {},
   "outputs": [],
   "source": [
    "from sklearn import set_config\n",
    "\n",
    "set_config(transform_output=\"pandas\")"
   ]
  },
  {
   "cell_type": "code",
   "execution_count": 10,
   "id": "f0c9b7e5",
   "metadata": {},
   "outputs": [],
   "source": [
    "\n",
    "\n",
    "# encode the data\n",
    "\n",
    "encoder = ColumnTransformer([\n",
    "    (\"ohe\", OneHotEncoder(drop=\"first\",sparse_output=False), [\"region\",\"day_of_week\"])\n",
    "], remainder=\"passthrough\", n_jobs=-1,force_int_remainder_cols=False)\n",
    "\n"
   ]
  },
  {
   "cell_type": "code",
   "execution_count": 11,
   "id": "d799bef8",
   "metadata": {},
   "outputs": [],
   "source": [
    "# encode the train and test data\n",
    "\n",
    "X_train_encoded = encoder.fit_transform(X_train)\n",
    "X_test_encoded = encoder.transform(X_test)"
   ]
  },
  {
   "cell_type": "code",
   "execution_count": 12,
   "id": "ede77b5e",
   "metadata": {},
   "outputs": [],
   "source": [
    "import optuna\n",
    "import tqdm \n"
   ]
  },
  {
   "cell_type": "code",
   "execution_count": 13,
   "id": "1159d311",
   "metadata": {},
   "outputs": [
    {
     "name": "stderr",
     "output_type": "stream",
     "text": [
      "2025/08/24 00:28:34 INFO mlflow.tracking.fluent: Experiment with name 'Model Selection' does not exist. Creating a new experiment.\n"
     ]
    },
    {
     "data": {
      "text/plain": [
       "<Experiment: artifact_location='mlflow-artifacts:/2a268b19a95b44b4b63791d7dbbab215', creation_time=1755973714772, experiment_id='0', last_update_time=1755973714772, lifecycle_stage='active', name='Model Selection', tags={}>"
      ]
     },
     "execution_count": 13,
     "metadata": {},
     "output_type": "execute_result"
    }
   ],
   "source": [
    "\n",
    "mlflow.set_experiment(\"Model Selection\")"
   ]
  },
  {
   "cell_type": "code",
   "execution_count": 14,
   "id": "32f3559b",
   "metadata": {},
   "outputs": [],
   "source": [
    "def objective(trial):\n",
    "    # start the child run\n",
    "    with mlflow.start_run(nested=True) as child:\n",
    "        \n",
    "        # model name search space\n",
    "        list_of_models = [\"LR\", \"RF\", \"GBR\", \"XGBR\"]\n",
    "        model_name = trial.suggest_categorical(\"model_name\", list_of_models)\n",
    "    \n",
    "        if model_name == \"LR\":\n",
    "            model = LinearRegression()\n",
    "    \n",
    "        elif model_name == \"RF\":\n",
    "            n_estimators_rf = trial.suggest_int(\"n_estimators_rf\",10,100,step=10)\n",
    "            max_depth_rf = trial.suggest_int(\"max_depth_rf\",3,10)\n",
    "            model = RandomForestRegressor(n_estimators=n_estimators_rf, \n",
    "                                          max_depth=max_depth_rf, \n",
    "                                          random_state=42, n_jobs=-1)\n",
    "    \n",
    "        elif model_name == \"GBR\":\n",
    "            n_estimators_gb = trial.suggest_int(\"n_estimators_gb\",10,100,step=10)\n",
    "            learning_rate_gb = trial.suggest_float(\"learning_rate_gb\",1e-4,1e-1, log=True)\n",
    "            model = GradientBoostingRegressor(n_estimators=n_estimators_gb, \n",
    "                                              learning_rate=learning_rate_gb,\n",
    "                                             random_state=42)\n",
    "    \n",
    "        elif model_name == \"XGBR\":\n",
    "            n_estimators_xgb = trial.suggest_int(\"n_estimators_xgb\",10,100,step=10)\n",
    "            learning_rate_xgb = trial.suggest_float(\"learning_rate_xgb\",1e-4,1e-1, log=True)\n",
    "            max_depth_xgb = trial.suggest_int(\"max_depth_xgb\",3,10)\n",
    "            model = XGBRegressor(n_estimators=n_estimators_xgb,\n",
    "                                learning_rate=learning_rate_xgb,\n",
    "                                max_depth=max_depth_xgb)\n",
    "    \n",
    "        # log the model name\n",
    "        mlflow.log_param(\"model_name\",model_name)\n",
    "        \n",
    "        # log the model parameters\n",
    "        mlflow.log_params(model.get_params())\n",
    "        \n",
    "        # fit on the data\n",
    "        model.fit(X_train_encoded,y_train)\n",
    "    \n",
    "        # get the predictions\n",
    "        y_pred = model.predict(X_test_encoded)\n",
    "    \n",
    "        # calculate the loss\n",
    "        loss = mean_absolute_percentage_error(y_test, y_pred)\n",
    "    \n",
    "        # log the metric\n",
    "        mlflow.log_metric(\"MAPE\",loss)\n",
    "        return loss"
   ]
  },
  {
   "cell_type": "code",
   "execution_count": 15,
   "id": "11e97bd1",
   "metadata": {},
   "outputs": [
    {
     "name": "stderr",
     "output_type": "stream",
     "text": [
      "[I 2025-08-24 00:29:11,308] A new study created in memory with name: model_selection\n"
     ]
    },
    {
     "name": "stdout",
     "output_type": "stream",
     "text": [
      "🏃 View run dashing-bass-17 at: https://dagshub.com/gulamkibria775/Uber-Delivery-prediction.mlflow/#/experiments/0/runs/233c7449ee8e49dbbcdbb7bff3cc3c0f\n",
      "🧪 View experiment at: https://dagshub.com/gulamkibria775/Uber-Delivery-prediction.mlflow/#/experiments/0\n",
      "🏃 View run tasteful-dog-334 at: https://dagshub.com/gulamkibria775/Uber-Delivery-prediction.mlflow/#/experiments/0/runs/d0248de6ab124177bc1d8953b9848a62\n",
      "🧪 View experiment at: https://dagshub.com/gulamkibria775/Uber-Delivery-prediction.mlflow/#/experiments/0\n",
      "🏃 View run beautiful-bee-945 at: https://dagshub.com/gulamkibria775/Uber-Delivery-prediction.mlflow/#/experiments/0/runs/adde040fb5c34411ac577c58e1880b4c\n",
      "🧪 View experiment at: https://dagshub.com/gulamkibria775/Uber-Delivery-prediction.mlflow/#/experiments/0\n",
      "🏃 View run luminous-yak-777 at: https://dagshub.com/gulamkibria775/Uber-Delivery-prediction.mlflow/#/experiments/0/runs/eb0ade19c0694212b8fdf9b611c64444\n",
      "🧪 View experiment at: https://dagshub.com/gulamkibria775/Uber-Delivery-prediction.mlflow/#/experiments/0\n",
      "🏃 View run powerful-snail-628 at: https://dagshub.com/gulamkibria775/Uber-Delivery-prediction.mlflow/#/experiments/0/runs/523dc97381034557b38f35fc32f8c44b\n",
      "🧪 View experiment at: https://dagshub.com/gulamkibria775/Uber-Delivery-prediction.mlflow/#/experiments/0\n"
     ]
    },
    {
     "name": "stderr",
     "output_type": "stream",
     "text": [
      "[I 2025-08-24 00:30:23,316] Trial 0 finished with value: 0.07934790285463365 and parameters: {'model_name': 'LR'}. Best is trial 0 with value: 0.07934790285463365.\n",
      "[I 2025-08-24 00:30:24,323] Trial 2 finished with value: 0.07934790285463365 and parameters: {'model_name': 'LR'}. Best is trial 0 with value: 0.07934790285463365.\n"
     ]
    },
    {
     "name": "stdout",
     "output_type": "stream",
     "text": [
      "🏃 View run amazing-perch-4 at: https://dagshub.com/gulamkibria775/Uber-Delivery-prediction.mlflow/#/experiments/0/runs/17ea4cde02914ca3ad0ad1c116babb7b\n",
      "🧪 View experiment at: https://dagshub.com/gulamkibria775/Uber-Delivery-prediction.mlflow/#/experiments/0\n"
     ]
    },
    {
     "name": "stderr",
     "output_type": "stream",
     "text": [
      "[I 2025-08-24 00:30:27,634] Trial 10 finished with value: 4.521983623504639 and parameters: {'model_name': 'XGBR', 'n_estimators_xgb': 40, 'learning_rate_xgb': 0.009465194087779225, 'max_depth_xgb': 10}. Best is trial 0 with value: 0.07934790285463365.\n"
     ]
    },
    {
     "name": "stdout",
     "output_type": "stream",
     "text": [
      "🏃 View run masked-cow-117 at: https://dagshub.com/gulamkibria775/Uber-Delivery-prediction.mlflow/#/experiments/0/runs/2c6bea7b21844d79bc184090cd405d85\n",
      "🧪 View experiment at: https://dagshub.com/gulamkibria775/Uber-Delivery-prediction.mlflow/#/experiments/0\n",
      "🏃 View run calm-carp-679 at: https://dagshub.com/gulamkibria775/Uber-Delivery-prediction.mlflow/#/experiments/0/runs/05628a35d6af4c2c8ee7b2217b361dad\n",
      "🧪 View experiment at: https://dagshub.com/gulamkibria775/Uber-Delivery-prediction.mlflow/#/experiments/0\n"
     ]
    },
    {
     "name": "stderr",
     "output_type": "stream",
     "text": [
      "[I 2025-08-24 00:30:31,385] Trial 12 finished with value: 6.024294376373291 and parameters: {'model_name': 'XGBR', 'n_estimators_xgb': 100, 'learning_rate_xgb': 0.0008959917416333403, 'max_depth_xgb': 5}. Best is trial 0 with value: 0.07934790285463365.\n",
      "[I 2025-08-24 00:30:32,576] Trial 11 finished with value: 0.07934790285463365 and parameters: {'model_name': 'LR'}. Best is trial 0 with value: 0.07934790285463365.\n",
      "[I 2025-08-24 00:30:35,296] Trial 5 finished with value: 5.921688079833984 and parameters: {'model_name': 'XGBR', 'n_estimators_xgb': 20, 'learning_rate_xgb': 0.005577114644307124, 'max_depth_xgb': 3}. Best is trial 0 with value: 0.07934790285463365.\n",
      "[I 2025-08-24 00:30:38,293] Trial 14 finished with value: 0.07934790285463365 and parameters: {'model_name': 'LR'}. Best is trial 0 with value: 0.07934790285463365.\n"
     ]
    },
    {
     "name": "stdout",
     "output_type": "stream",
     "text": [
      "🏃 View run sassy-bear-260 at: https://dagshub.com/gulamkibria775/Uber-Delivery-prediction.mlflow/#/experiments/0/runs/af4527b1e56a453189723fd448334e9a\n",
      "🧪 View experiment at: https://dagshub.com/gulamkibria775/Uber-Delivery-prediction.mlflow/#/experiments/0\n",
      "🏃 View run bedecked-skink-368 at: https://dagshub.com/gulamkibria775/Uber-Delivery-prediction.mlflow/#/experiments/0/runs/7d518613730e435585a6d872022adab9\n",
      "🧪 View experiment at: https://dagshub.com/gulamkibria775/Uber-Delivery-prediction.mlflow/#/experiments/0\n"
     ]
    },
    {
     "name": "stderr",
     "output_type": "stream",
     "text": [
      "[I 2025-08-24 00:30:49,281] Trial 15 finished with value: 0.5426613001489775 and parameters: {'model_name': 'RF', 'n_estimators_rf': 20, 'max_depth_rf': 3}. Best is trial 0 with value: 0.07934790285463365.\n",
      "[I 2025-08-24 00:30:53,296] Trial 3 finished with value: 0.07934790285463365 and parameters: {'model_name': 'LR'}. Best is trial 0 with value: 0.07934790285463365.\n",
      "[I 2025-08-24 00:30:54,312] Trial 7 finished with value: 3.3434581756591797 and parameters: {'model_name': 'XGBR', 'n_estimators_xgb': 50, 'learning_rate_xgb': 0.013808900243891682, 'max_depth_xgb': 5}. Best is trial 0 with value: 0.07934790285463365.\n"
     ]
    },
    {
     "name": "stdout",
     "output_type": "stream",
     "text": [
      "🏃 View run calm-foal-613 at: https://dagshub.com/gulamkibria775/Uber-Delivery-prediction.mlflow/#/experiments/0/runs/f3718a7ce8fb4cf28fe03aacafa8abba\n",
      "🧪 View experiment at: https://dagshub.com/gulamkibria775/Uber-Delivery-prediction.mlflow/#/experiments/0\n"
     ]
    },
    {
     "name": "stderr",
     "output_type": "stream",
     "text": [
      "[I 2025-08-24 00:31:05,285] Trial 8 finished with value: 6.243815230769951 and parameters: {'model_name': 'GBR', 'n_estimators_gb': 80, 'learning_rate_gb': 0.0006907767409052867}. Best is trial 0 with value: 0.07934790285463365.\n"
     ]
    },
    {
     "name": "stdout",
     "output_type": "stream",
     "text": [
      "🏃 View run upbeat-panda-221 at: https://dagshub.com/gulamkibria775/Uber-Delivery-prediction.mlflow/#/experiments/0/runs/93bb6dfdc7a541af9a6979f7a1b391b3\n",
      "🧪 View experiment at: https://dagshub.com/gulamkibria775/Uber-Delivery-prediction.mlflow/#/experiments/0\n",
      "🏃 View run righteous-shrimp-953 at: https://dagshub.com/gulamkibria775/Uber-Delivery-prediction.mlflow/#/experiments/0/runs/00c846abe7e7491ba16d73ad1de66d0a\n",
      "🧪 View experiment at: https://dagshub.com/gulamkibria775/Uber-Delivery-prediction.mlflow/#/experiments/0\n",
      "🏃 View run abrasive-lynx-906 at: https://dagshub.com/gulamkibria775/Uber-Delivery-prediction.mlflow/#/experiments/0/runs/79d5609890144e40bac528f84236de7d\n",
      "🧪 View experiment at: https://dagshub.com/gulamkibria775/Uber-Delivery-prediction.mlflow/#/experiments/0\n",
      "🏃 View run kindly-mule-41 at: https://dagshub.com/gulamkibria775/Uber-Delivery-prediction.mlflow/#/experiments/0/runs/2d5308344b5648418e227f3aff2c180c\n",
      "🧪 View experiment at: https://dagshub.com/gulamkibria775/Uber-Delivery-prediction.mlflow/#/experiments/0\n"
     ]
    },
    {
     "name": "stderr",
     "output_type": "stream",
     "text": [
      "[I 2025-08-24 00:31:39,280] Trial 4 finished with value: 0.07934790285463365 and parameters: {'model_name': 'LR'}. Best is trial 0 with value: 0.07934790285463365.\n",
      "[I 2025-08-24 00:31:44,300] Trial 13 finished with value: 0.07934790285463365 and parameters: {'model_name': 'LR'}. Best is trial 0 with value: 0.07934790285463365.\n",
      "[I 2025-08-24 00:31:48,302] Trial 17 finished with value: 6.470781326293945 and parameters: {'model_name': 'XGBR', 'n_estimators_xgb': 100, 'learning_rate_xgb': 0.00016683212728150484, 'max_depth_xgb': 5}. Best is trial 0 with value: 0.07934790285463365.\n",
      "[I 2025-08-24 00:31:52,266] Trial 18 finished with value: 0.15276531875133514 and parameters: {'model_name': 'XGBR', 'n_estimators_xgb': 100, 'learning_rate_xgb': 0.04355166114034628, 'max_depth_xgb': 9}. Best is trial 0 with value: 0.07934790285463365.\n"
     ]
    },
    {
     "name": "stdout",
     "output_type": "stream",
     "text": [
      "🏃 View run gaudy-bee-798 at: https://dagshub.com/gulamkibria775/Uber-Delivery-prediction.mlflow/#/experiments/0/runs/3d17534483eb452d834e98126e25a0ec\n",
      "🧪 View experiment at: https://dagshub.com/gulamkibria775/Uber-Delivery-prediction.mlflow/#/experiments/0\n",
      "🏃 View run handsome-auk-224 at: https://dagshub.com/gulamkibria775/Uber-Delivery-prediction.mlflow/#/experiments/0/runs/e0210eb764484f02b608b274631d44f9\n",
      "🧪 View experiment at: https://dagshub.com/gulamkibria775/Uber-Delivery-prediction.mlflow/#/experiments/0\n",
      "🏃 View run handsome-frog-934 at: https://dagshub.com/gulamkibria775/Uber-Delivery-prediction.mlflow/#/experiments/0/runs/c7aa0f7619a341b8a68fbe04226e8cde\n",
      "🧪 View experiment at: https://dagshub.com/gulamkibria775/Uber-Delivery-prediction.mlflow/#/experiments/0\n"
     ]
    },
    {
     "name": "stderr",
     "output_type": "stream",
     "text": [
      "[I 2025-08-24 00:32:07,309] Trial 22 finished with value: 0.07934790285463365 and parameters: {'model_name': 'LR'}. Best is trial 0 with value: 0.07934790285463365.\n"
     ]
    },
    {
     "name": "stdout",
     "output_type": "stream",
     "text": [
      "🏃 View run colorful-croc-38 at: https://dagshub.com/gulamkibria775/Uber-Delivery-prediction.mlflow/#/experiments/0/runs/91c923d7aad9477f8213810103696e5c\n",
      "🧪 View experiment at: https://dagshub.com/gulamkibria775/Uber-Delivery-prediction.mlflow/#/experiments/0\n",
      "🏃 View run welcoming-carp-232 at: https://dagshub.com/gulamkibria775/Uber-Delivery-prediction.mlflow/#/experiments/0/runs/55eff7e9207f491d930171d514d592f6\n",
      "🧪 View experiment at: https://dagshub.com/gulamkibria775/Uber-Delivery-prediction.mlflow/#/experiments/0\n",
      "🏃 View run rogue-sloth-262 at: https://dagshub.com/gulamkibria775/Uber-Delivery-prediction.mlflow/#/experiments/0/runs/7132aa99c78d45b69d4abb4fb08e6505\n",
      "🧪 View experiment at: https://dagshub.com/gulamkibria775/Uber-Delivery-prediction.mlflow/#/experiments/0\n"
     ]
    },
    {
     "name": "stderr",
     "output_type": "stream",
     "text": [
      "[I 2025-08-24 00:32:15,284] Trial 1 finished with value: 0.17727301909164503 and parameters: {'model_name': 'RF', 'n_estimators_rf': 40, 'max_depth_rf': 7}. Best is trial 0 with value: 0.07934790285463365.\n",
      "[I 2025-08-24 00:32:20,305] Trial 23 finished with value: 6.366648758067627 and parameters: {'model_name': 'GBR', 'n_estimators_gb': 90, 'learning_rate_gb': 0.0003838677323336782}. Best is trial 0 with value: 0.07934790285463365.\n",
      "[I 2025-08-24 00:32:21,327] Trial 24 finished with value: 0.5131936405582173 and parameters: {'model_name': 'GBR', 'n_estimators_gb': 60, 'learning_rate_gb': 0.05237087615781387}. Best is trial 0 with value: 0.07934790285463365.\n",
      "[I 2025-08-24 00:32:22,269] Trial 20 finished with value: 6.096181164239372 and parameters: {'model_name': 'GBR', 'n_estimators_gb': 80, 'learning_rate_gb': 0.0010091900750384332}. Best is trial 0 with value: 0.07934790285463365.\n",
      "[I 2025-08-24 00:32:23,278] Trial 26 finished with value: 0.07934790285463365 and parameters: {'model_name': 'LR'}. Best is trial 0 with value: 0.07934790285463365.\n"
     ]
    },
    {
     "name": "stdout",
     "output_type": "stream",
     "text": [
      "🏃 View run masked-trout-910 at: https://dagshub.com/gulamkibria775/Uber-Delivery-prediction.mlflow/#/experiments/0/runs/434cfbadd945464dbd322e7652abadfe\n",
      "🧪 View experiment at: https://dagshub.com/gulamkibria775/Uber-Delivery-prediction.mlflow/#/experiments/0\n",
      "🏃 View run carefree-fowl-626 at: https://dagshub.com/gulamkibria775/Uber-Delivery-prediction.mlflow/#/experiments/0/runs/76736a47307245678ce3020c1cb222fd\n",
      "🧪 View experiment at: https://dagshub.com/gulamkibria775/Uber-Delivery-prediction.mlflow/#/experiments/0\n",
      "🏃 View run awesome-zebra-443 at: https://dagshub.com/gulamkibria775/Uber-Delivery-prediction.mlflow/#/experiments/0/runs/e6ec213d26b14711a067ec801cbfc907\n",
      "🧪 View experiment at: https://dagshub.com/gulamkibria775/Uber-Delivery-prediction.mlflow/#/experiments/0\n"
     ]
    },
    {
     "name": "stderr",
     "output_type": "stream",
     "text": [
      "[I 2025-08-24 00:32:43,317] Trial 16 finished with value: 6.321178357458152 and parameters: {'model_name': 'GBR', 'n_estimators_gb': 80, 'learning_rate_gb': 0.0005270920965421227}. Best is trial 0 with value: 0.07934790285463365.\n",
      "[I 2025-08-24 00:32:44,300] Trial 21 finished with value: 0.07934790285463365 and parameters: {'model_name': 'LR'}. Best is trial 0 with value: 0.07934790285463365.\n",
      "[I 2025-08-24 00:32:46,279] Trial 25 finished with value: 6.4709599642191025 and parameters: {'model_name': 'GBR', 'n_estimators_gb': 100, 'learning_rate_gb': 0.00017317497710033828}. Best is trial 0 with value: 0.07934790285463365.\n"
     ]
    },
    {
     "name": "stdout",
     "output_type": "stream",
     "text": [
      "🏃 View run delightful-sheep-117 at: https://dagshub.com/gulamkibria775/Uber-Delivery-prediction.mlflow/#/experiments/0/runs/d091d3f51f7f4ce69bc8c9745e18438e\n",
      "🧪 View experiment at: https://dagshub.com/gulamkibria775/Uber-Delivery-prediction.mlflow/#/experiments/0\n"
     ]
    },
    {
     "name": "stderr",
     "output_type": "stream",
     "text": [
      "[I 2025-08-24 00:33:16,278] Trial 27 finished with value: 2.9589332278507277 and parameters: {'model_name': 'GBR', 'n_estimators_gb': 10, 'learning_rate_gb': 0.08399006502765546}. Best is trial 0 with value: 0.07934790285463365.\n"
     ]
    },
    {
     "name": "stdout",
     "output_type": "stream",
     "text": [
      "🏃 View run invincible-flea-756 at: https://dagshub.com/gulamkibria775/Uber-Delivery-prediction.mlflow/#/experiments/0/runs/8a495ea643bb4245a4a83e5d730a594c\n",
      "🧪 View experiment at: https://dagshub.com/gulamkibria775/Uber-Delivery-prediction.mlflow/#/experiments/0\n"
     ]
    },
    {
     "name": "stderr",
     "output_type": "stream",
     "text": [
      "[I 2025-08-24 00:33:28,298] Trial 6 finished with value: 0.12902721652852625 and parameters: {'model_name': 'RF', 'n_estimators_rf': 40, 'max_depth_rf': 10}. Best is trial 0 with value: 0.07934790285463365.\n"
     ]
    },
    {
     "name": "stdout",
     "output_type": "stream",
     "text": [
      "🏃 View run amusing-shrew-375 at: https://dagshub.com/gulamkibria775/Uber-Delivery-prediction.mlflow/#/experiments/0/runs/81d2cd7e59734aa0a03a38dee0b603ec\n",
      "🧪 View experiment at: https://dagshub.com/gulamkibria775/Uber-Delivery-prediction.mlflow/#/experiments/0\n",
      "🏃 View run debonair-moth-873 at: https://dagshub.com/gulamkibria775/Uber-Delivery-prediction.mlflow/#/experiments/0/runs/5272cebedce94a27ae06349db1aff0ef\n",
      "🧪 View experiment at: https://dagshub.com/gulamkibria775/Uber-Delivery-prediction.mlflow/#/experiments/0\n",
      "🏃 View run indecisive-gnat-687 at: https://dagshub.com/gulamkibria775/Uber-Delivery-prediction.mlflow/#/experiments/0/runs/fde3e4bda62f47ac82d9a664232f6a08\n",
      "🧪 View experiment at: https://dagshub.com/gulamkibria775/Uber-Delivery-prediction.mlflow/#/experiments/0\n",
      "🏃 View run kindly-gnu-127 at: https://dagshub.com/gulamkibria775/Uber-Delivery-prediction.mlflow/#/experiments/0/runs/3951ab6a76e64704ad32dd1f6e7fb560\n",
      "🧪 View experiment at: https://dagshub.com/gulamkibria775/Uber-Delivery-prediction.mlflow/#/experiments/0\n"
     ]
    },
    {
     "name": "stderr",
     "output_type": "stream",
     "text": [
      "[I 2025-08-24 00:33:39,279] Trial 29 finished with value: 0.07934790285463365 and parameters: {'model_name': 'LR'}. Best is trial 0 with value: 0.07934790285463365.\n",
      "[I 2025-08-24 00:33:40,269] Trial 33 finished with value: 0.07934790285463365 and parameters: {'model_name': 'LR'}. Best is trial 0 with value: 0.07934790285463365.\n",
      "[I 2025-08-24 00:33:42,284] Trial 35 finished with value: 0.07934790285463365 and parameters: {'model_name': 'LR'}. Best is trial 0 with value: 0.07934790285463365.\n",
      "[I 2025-08-24 00:33:43,297] Trial 31 finished with value: 2.9088690458003676 and parameters: {'model_name': 'GBR', 'n_estimators_gb': 10, 'learning_rate_gb': 0.08553219673463393}. Best is trial 0 with value: 0.07934790285463365.\n"
     ]
    },
    {
     "name": "stdout",
     "output_type": "stream",
     "text": [
      "🏃 View run smiling-bird-20 at: https://dagshub.com/gulamkibria775/Uber-Delivery-prediction.mlflow/#/experiments/0/runs/70d8d3b3d6734605a1e4ebe0abc9b66e\n",
      "🧪 View experiment at: https://dagshub.com/gulamkibria775/Uber-Delivery-prediction.mlflow/#/experiments/0\n"
     ]
    },
    {
     "name": "stderr",
     "output_type": "stream",
     "text": [
      "[I 2025-08-24 00:33:57,268] Trial 36 finished with value: 0.07934790285463365 and parameters: {'model_name': 'LR'}. Best is trial 0 with value: 0.07934790285463365.\n"
     ]
    },
    {
     "name": "stdout",
     "output_type": "stream",
     "text": [
      "🏃 View run fortunate-mule-973 at: https://dagshub.com/gulamkibria775/Uber-Delivery-prediction.mlflow/#/experiments/0/runs/7e3e26a179244ac6a21b456f4fe30b3d\n",
      "🧪 View experiment at: https://dagshub.com/gulamkibria775/Uber-Delivery-prediction.mlflow/#/experiments/0\n",
      "🏃 View run gentle-skink-193 at: https://dagshub.com/gulamkibria775/Uber-Delivery-prediction.mlflow/#/experiments/0/runs/7163003261414b5c819cb4611ec8a50c\n",
      "🧪 View experiment at: https://dagshub.com/gulamkibria775/Uber-Delivery-prediction.mlflow/#/experiments/0\n",
      "🏃 View run gifted-owl-69 at: https://dagshub.com/gulamkibria775/Uber-Delivery-prediction.mlflow/#/experiments/0/runs/8841fdd8457244068d55658549851566\n",
      "🧪 View experiment at: https://dagshub.com/gulamkibria775/Uber-Delivery-prediction.mlflow/#/experiments/0\n",
      "🏃 View run marvelous-flea-193 at: https://dagshub.com/gulamkibria775/Uber-Delivery-prediction.mlflow/#/experiments/0/runs/57b8a897d2eb48e7ab811a97f644485c\n",
      "🧪 View experiment at: https://dagshub.com/gulamkibria775/Uber-Delivery-prediction.mlflow/#/experiments/0\n"
     ]
    },
    {
     "name": "stderr",
     "output_type": "stream",
     "text": [
      "[I 2025-08-24 00:34:31,263] Trial 9 finished with value: 0.07934790285463365 and parameters: {'model_name': 'LR'}. Best is trial 0 with value: 0.07934790285463365.\n",
      "[I 2025-08-24 00:34:36,275] Trial 40 finished with value: 0.07934790285463365 and parameters: {'model_name': 'LR'}. Best is trial 0 with value: 0.07934790285463365.\n",
      "[I 2025-08-24 00:34:37,267] Trial 30 finished with value: 3.049647952674323 and parameters: {'model_name': 'GBR', 'n_estimators_gb': 10, 'learning_rate_gb': 0.08057998156809247}. Best is trial 0 with value: 0.07934790285463365.\n"
     ]
    },
    {
     "name": "stdout",
     "output_type": "stream",
     "text": [
      "🏃 View run rambunctious-doe-722 at: https://dagshub.com/gulamkibria775/Uber-Delivery-prediction.mlflow/#/experiments/0/runs/5fa1ddd8325f4d6fbc33feddc6ba2e9c\n",
      "🧪 View experiment at: https://dagshub.com/gulamkibria775/Uber-Delivery-prediction.mlflow/#/experiments/0\n",
      "🏃 View run bright-crow-754 at: https://dagshub.com/gulamkibria775/Uber-Delivery-prediction.mlflow/#/experiments/0/runs/74dc2ac8cf8d474e835119113b7e4d7a\n",
      "🧪 View experiment at: https://dagshub.com/gulamkibria775/Uber-Delivery-prediction.mlflow/#/experiments/0\n",
      "🏃 View run marvelous-fly-13 at: https://dagshub.com/gulamkibria775/Uber-Delivery-prediction.mlflow/#/experiments/0/runs/47d7b56706044d83a99caa967c41b287\n",
      "🧪 View experiment at: https://dagshub.com/gulamkibria775/Uber-Delivery-prediction.mlflow/#/experiments/0\n"
     ]
    },
    {
     "name": "stderr",
     "output_type": "stream",
     "text": [
      "[I 2025-08-24 00:34:53,270] Trial 37 finished with value: 0.07934790285463365 and parameters: {'model_name': 'LR'}. Best is trial 0 with value: 0.07934790285463365.\n"
     ]
    },
    {
     "name": "stdout",
     "output_type": "stream",
     "text": [
      "🏃 View run smiling-ox-346 at: https://dagshub.com/gulamkibria775/Uber-Delivery-prediction.mlflow/#/experiments/0/runs/51e8cf1080e04c209df6bb6d314089d4\n",
      "🧪 View experiment at: https://dagshub.com/gulamkibria775/Uber-Delivery-prediction.mlflow/#/experiments/0\n",
      "🏃 View run clumsy-koi-601 at: https://dagshub.com/gulamkibria775/Uber-Delivery-prediction.mlflow/#/experiments/0/runs/e7b7d906b9244f30a37ea0e4a811c141\n",
      "🧪 View experiment at: https://dagshub.com/gulamkibria775/Uber-Delivery-prediction.mlflow/#/experiments/0\n",
      "🏃 View run invincible-goat-750 at: https://dagshub.com/gulamkibria775/Uber-Delivery-prediction.mlflow/#/experiments/0/runs/837341bf172e4d4aab0b38323600d72f\n",
      "🧪 View experiment at: https://dagshub.com/gulamkibria775/Uber-Delivery-prediction.mlflow/#/experiments/0\n"
     ]
    },
    {
     "name": "stderr",
     "output_type": "stream",
     "text": [
      "[I 2025-08-24 00:35:00,322] Trial 43 finished with value: 0.5443209920941997 and parameters: {'model_name': 'RF', 'n_estimators_rf': 100, 'max_depth_rf': 3}. Best is trial 0 with value: 0.07934790285463365.\n",
      "[I 2025-08-24 00:35:03,283] Trial 45 finished with value: 0.5443209920941997 and parameters: {'model_name': 'RF', 'n_estimators_rf': 100, 'max_depth_rf': 3}. Best is trial 0 with value: 0.07934790285463365.\n",
      "[I 2025-08-24 00:35:04,269] Trial 42 finished with value: 0.5443160512645059 and parameters: {'model_name': 'RF', 'n_estimators_rf': 90, 'max_depth_rf': 3}. Best is trial 0 with value: 0.07934790285463365.\n",
      "[I 2025-08-24 00:35:06,296] Trial 41 finished with value: 0.07934790285463365 and parameters: {'model_name': 'LR'}. Best is trial 0 with value: 0.07934790285463365.\n",
      "[I 2025-08-24 00:35:07,289] Trial 39 finished with value: 0.07934790285463365 and parameters: {'model_name': 'LR'}. Best is trial 0 with value: 0.07934790285463365.\n",
      "[I 2025-08-24 00:35:08,272] Trial 44 finished with value: 0.5443209920941997 and parameters: {'model_name': 'RF', 'n_estimators_rf': 100, 'max_depth_rf': 3}. Best is trial 0 with value: 0.07934790285463365.\n"
     ]
    },
    {
     "name": "stdout",
     "output_type": "stream",
     "text": [
      "🏃 View run righteous-bat-586 at: https://dagshub.com/gulamkibria775/Uber-Delivery-prediction.mlflow/#/experiments/0/runs/7682e4da91cc4ba284cf81adb8f209e5\n",
      "🧪 View experiment at: https://dagshub.com/gulamkibria775/Uber-Delivery-prediction.mlflow/#/experiments/0\n",
      "🏃 View run sneaky-crab-106 at: https://dagshub.com/gulamkibria775/Uber-Delivery-prediction.mlflow/#/experiments/0/runs/c5da61adc77e4271a37199b9451db9de\n",
      "🧪 View experiment at: https://dagshub.com/gulamkibria775/Uber-Delivery-prediction.mlflow/#/experiments/0\n"
     ]
    },
    {
     "name": "stderr",
     "output_type": "stream",
     "text": [
      "[I 2025-08-24 00:35:16,531] Trial 28 finished with value: 2.639864842690813 and parameters: {'model_name': 'GBR', 'n_estimators_gb': 10, 'learning_rate_gb': 0.09575302966772611}. Best is trial 0 with value: 0.07934790285463365.\n",
      "[I 2025-08-24 00:35:18,283] Trial 38 finished with value: 0.07934790285463365 and parameters: {'model_name': 'LR'}. Best is trial 0 with value: 0.07934790285463365.\n"
     ]
    },
    {
     "name": "stdout",
     "output_type": "stream",
     "text": [
      "🏃 View run invincible-pug-856 at: https://dagshub.com/gulamkibria775/Uber-Delivery-prediction.mlflow/#/experiments/0/runs/569fb33cb2bd435d879d39996b11e822\n",
      "🧪 View experiment at: https://dagshub.com/gulamkibria775/Uber-Delivery-prediction.mlflow/#/experiments/0\n"
     ]
    },
    {
     "name": "stderr",
     "output_type": "stream",
     "text": [
      "[I 2025-08-24 00:35:24,320] Trial 46 finished with value: 0.07934790285463365 and parameters: {'model_name': 'LR'}. Best is trial 0 with value: 0.07934790285463365.\n"
     ]
    },
    {
     "name": "stdout",
     "output_type": "stream",
     "text": [
      "🏃 View run victorious-ape-967 at: https://dagshub.com/gulamkibria775/Uber-Delivery-prediction.mlflow/#/experiments/0/runs/91e72f7dff1c45df99babcddd11cd344\n",
      "🧪 View experiment at: https://dagshub.com/gulamkibria775/Uber-Delivery-prediction.mlflow/#/experiments/0\n",
      "🏃 View run beautiful-jay-601 at: https://dagshub.com/gulamkibria775/Uber-Delivery-prediction.mlflow/#/experiments/0/runs/1668e5216d2c494da3b0886ceabe85cf\n",
      "🧪 View experiment at: https://dagshub.com/gulamkibria775/Uber-Delivery-prediction.mlflow/#/experiments/0\n"
     ]
    },
    {
     "name": "stderr",
     "output_type": "stream",
     "text": [
      "[I 2025-08-24 00:35:29,278] Trial 32 finished with value: 0.07934790285463365 and parameters: {'model_name': 'LR'}. Best is trial 0 with value: 0.07934790285463365.\n"
     ]
    },
    {
     "name": "stdout",
     "output_type": "stream",
     "text": [
      "🏃 View run popular-stag-800 at: https://dagshub.com/gulamkibria775/Uber-Delivery-prediction.mlflow/#/experiments/0/runs/864ec329f3084657a128d81b73fd9bc9\n",
      "🧪 View experiment at: https://dagshub.com/gulamkibria775/Uber-Delivery-prediction.mlflow/#/experiments/0\n"
     ]
    },
    {
     "name": "stderr",
     "output_type": "stream",
     "text": [
      "[I 2025-08-24 00:35:32,311] Trial 47 finished with value: 0.5443209920941997 and parameters: {'model_name': 'RF', 'n_estimators_rf': 100, 'max_depth_rf': 3}. Best is trial 0 with value: 0.07934790285463365.\n",
      "[I 2025-08-24 00:35:33,298] Trial 48 finished with value: 0.5443209920941997 and parameters: {'model_name': 'RF', 'n_estimators_rf': 100, 'max_depth_rf': 3}. Best is trial 0 with value: 0.07934790285463365.\n"
     ]
    },
    {
     "name": "stdout",
     "output_type": "stream",
     "text": [
      "🏃 View run intrigued-roo-967 at: https://dagshub.com/gulamkibria775/Uber-Delivery-prediction.mlflow/#/experiments/0/runs/8361f811ea9a4444a54ecbd1fbaad0e8\n",
      "🧪 View experiment at: https://dagshub.com/gulamkibria775/Uber-Delivery-prediction.mlflow/#/experiments/0\n"
     ]
    },
    {
     "name": "stderr",
     "output_type": "stream",
     "text": [
      "[I 2025-08-24 00:35:37,270] Trial 49 finished with value: 0.07934790285463365 and parameters: {'model_name': 'LR'}. Best is trial 0 with value: 0.07934790285463365.\n"
     ]
    },
    {
     "name": "stdout",
     "output_type": "stream",
     "text": [
      "🏃 View run victorious-panda-161 at: https://dagshub.com/gulamkibria775/Uber-Delivery-prediction.mlflow/#/experiments/0/runs/a6554094c5a549b9aba4a5ef0b5cc2bd\n",
      "🧪 View experiment at: https://dagshub.com/gulamkibria775/Uber-Delivery-prediction.mlflow/#/experiments/0\n"
     ]
    },
    {
     "name": "stderr",
     "output_type": "stream",
     "text": [
      "[I 2025-08-24 00:35:41,527] Trial 19 finished with value: 0.17696513204101527 and parameters: {'model_name': 'RF', 'n_estimators_rf': 50, 'max_depth_rf': 7}. Best is trial 0 with value: 0.07934790285463365.\n"
     ]
    },
    {
     "name": "stdout",
     "output_type": "stream",
     "text": [
      "🏃 View run upbeat-ray-90 at: https://dagshub.com/gulamkibria775/Uber-Delivery-prediction.mlflow/#/experiments/0/runs/32ef00caef4d44d08616490faf516a9e\n",
      "🧪 View experiment at: https://dagshub.com/gulamkibria775/Uber-Delivery-prediction.mlflow/#/experiments/0\n"
     ]
    },
    {
     "name": "stderr",
     "output_type": "stream",
     "text": [
      "[I 2025-08-24 00:35:45,859] Trial 34 finished with value: 0.07934790285463365 and parameters: {'model_name': 'LR'}. Best is trial 0 with value: 0.07934790285463365.\n"
     ]
    },
    {
     "name": "stdout",
     "output_type": "stream",
     "text": [
      "🏃 View run best_model at: https://dagshub.com/gulamkibria775/Uber-Delivery-prediction.mlflow/#/experiments/0/runs/945f00768b024398a0e3b537f77e470b\n",
      "🧪 View experiment at: https://dagshub.com/gulamkibria775/Uber-Delivery-prediction.mlflow/#/experiments/0\n"
     ]
    }
   ],
   "source": [
    "\n",
    "\n",
    "# optimize the objective function\n",
    "\n",
    "with mlflow.start_run(run_name=\"best_model\", nested=True) as parent:\n",
    "\n",
    "    # create a study object\n",
    "    study = optuna.create_study(study_name=\"model_selection\", direction=\"minimize\")\n",
    "    # optimize the objective function\n",
    "    study.optimize(func=objective, n_trials=50, n_jobs=-1)\n",
    "    \n",
    "    # log the best parameters\n",
    "    mlflow.log_params(study.best_params)\n",
    "    # log the best error value\n",
    "    mlflow.log_metric(\"Best_MAPE\", study.best_value)\n",
    "\n"
   ]
  },
  {
   "cell_type": "code",
   "execution_count": 16,
   "id": "b4c458d5",
   "metadata": {},
   "outputs": [
    {
     "data": {
      "text/plain": [
       "0.07934790285463365"
      ]
     },
     "execution_count": 16,
     "metadata": {},
     "output_type": "execute_result"
    }
   ],
   "source": [
    "# best value\n",
    "\n",
    "study.best_value\n"
   ]
  },
  {
   "cell_type": "code",
   "execution_count": 17,
   "id": "dfb4019f",
   "metadata": {},
   "outputs": [
    {
     "data": {
      "text/plain": [
       "{'model_name': 'LR'}"
      ]
     },
     "execution_count": 17,
     "metadata": {},
     "output_type": "execute_result"
    }
   ],
   "source": [
    "\n",
    "\n",
    "# best parameters\n",
    "\n",
    "study.best_params\n",
    "\n"
   ]
  },
  {
   "cell_type": "code",
   "execution_count": 18,
   "id": "1412ffd8",
   "metadata": {},
   "outputs": [
    {
     "data": {
      "text/plain": [
       "params_model_name\n",
       "LR      24\n",
       "RF      10\n",
       "GBR     10\n",
       "XGBR     6\n",
       "Name: count, dtype: int64"
      ]
     },
     "execution_count": 18,
     "metadata": {},
     "output_type": "execute_result"
    }
   ],
   "source": [
    "\n",
    "\n",
    "# model value counts\n",
    "\n",
    "study.trials_dataframe()['params_model_name'].value_counts()\n",
    "\n"
   ]
  },
  {
   "cell_type": "code",
   "execution_count": 19,
   "id": "1dec050b",
   "metadata": {},
   "outputs": [],
   "source": [
    "from optuna.visualization import (\n",
    "    plot_optimization_history, \n",
    "    plot_parallel_coordinate, \n",
    "    plot_param_importances\n",
    ")"
   ]
  },
  {
   "cell_type": "code",
   "execution_count": 20,
   "id": "b3fe1c15",
   "metadata": {},
   "outputs": [
    {
     "data": {
      "application/vnd.plotly.v1+json": {
       "config": {
        "plotlyServerURL": "https://plot.ly"
       },
       "data": [
        {
         "mode": "markers",
         "name": "Objective Value",
         "type": "scatter",
         "x": [
          0,
          1,
          2,
          3,
          4,
          5,
          6,
          7,
          8,
          9,
          10,
          11,
          12,
          13,
          14,
          15,
          16,
          17,
          18,
          19,
          20,
          21,
          22,
          23,
          24,
          25,
          26,
          27,
          28,
          29,
          30,
          31,
          32,
          33,
          34,
          35,
          36,
          37,
          38,
          39,
          40,
          41,
          42,
          43,
          44,
          45,
          46,
          47,
          48,
          49
         ],
         "y": [
          0.07934790285463365,
          0.17727301909164503,
          0.07934790285463365,
          0.07934790285463365,
          0.07934790285463365,
          5.921688079833984,
          0.12902721652852625,
          3.3434581756591797,
          6.243815230769951,
          0.07934790285463365,
          4.521983623504639,
          0.07934790285463365,
          6.024294376373291,
          0.07934790285463365,
          0.07934790285463365,
          0.5426613001489775,
          6.321178357458152,
          6.470781326293945,
          0.15276531875133514,
          0.17696513204101527,
          6.096181164239372,
          0.07934790285463365,
          0.07934790285463365,
          6.366648758067627,
          0.5131936405582173,
          6.4709599642191025,
          0.07934790285463365,
          2.9589332278507277,
          2.639864842690813,
          0.07934790285463365,
          3.049647952674323,
          2.9088690458003676,
          0.07934790285463365,
          0.07934790285463365,
          0.07934790285463365,
          0.07934790285463365,
          0.07934790285463365,
          0.07934790285463365,
          0.07934790285463365,
          0.07934790285463365,
          0.07934790285463365,
          0.07934790285463365,
          0.5443160512645059,
          0.5443209920941997,
          0.5443209920941997,
          0.5443209920941997,
          0.07934790285463365,
          0.5443209920941997,
          0.5443209920941997,
          0.07934790285463365
         ]
        },
        {
         "mode": "lines",
         "name": "Best Value",
         "type": "scatter",
         "x": [
          0,
          1,
          2,
          3,
          4,
          5,
          6,
          7,
          8,
          9,
          10,
          11,
          12,
          13,
          14,
          15,
          16,
          17,
          18,
          19,
          20,
          21,
          22,
          23,
          24,
          25,
          26,
          27,
          28,
          29,
          30,
          31,
          32,
          33,
          34,
          35,
          36,
          37,
          38,
          39,
          40,
          41,
          42,
          43,
          44,
          45,
          46,
          47,
          48,
          49
         ],
         "y": [
          0.07934790285463365,
          0.07934790285463365,
          0.07934790285463365,
          0.07934790285463365,
          0.07934790285463365,
          0.07934790285463365,
          0.07934790285463365,
          0.07934790285463365,
          0.07934790285463365,
          0.07934790285463365,
          0.07934790285463365,
          0.07934790285463365,
          0.07934790285463365,
          0.07934790285463365,
          0.07934790285463365,
          0.07934790285463365,
          0.07934790285463365,
          0.07934790285463365,
          0.07934790285463365,
          0.07934790285463365,
          0.07934790285463365,
          0.07934790285463365,
          0.07934790285463365,
          0.07934790285463365,
          0.07934790285463365,
          0.07934790285463365,
          0.07934790285463365,
          0.07934790285463365,
          0.07934790285463365,
          0.07934790285463365,
          0.07934790285463365,
          0.07934790285463365,
          0.07934790285463365,
          0.07934790285463365,
          0.07934790285463365,
          0.07934790285463365,
          0.07934790285463365,
          0.07934790285463365,
          0.07934790285463365,
          0.07934790285463365,
          0.07934790285463365,
          0.07934790285463365,
          0.07934790285463365,
          0.07934790285463365,
          0.07934790285463365,
          0.07934790285463365,
          0.07934790285463365,
          0.07934790285463365,
          0.07934790285463365,
          0.07934790285463365
         ]
        },
        {
         "marker": {
          "color": "#cccccc"
         },
         "mode": "markers",
         "name": "Infeasible Trial",
         "showlegend": false,
         "type": "scatter",
         "x": [],
         "y": []
        }
       ],
       "layout": {
        "template": {
         "data": {
          "bar": [
           {
            "error_x": {
             "color": "#2a3f5f"
            },
            "error_y": {
             "color": "#2a3f5f"
            },
            "marker": {
             "line": {
              "color": "#E5ECF6",
              "width": 0.5
             },
             "pattern": {
              "fillmode": "overlay",
              "size": 10,
              "solidity": 0.2
             }
            },
            "type": "bar"
           }
          ],
          "barpolar": [
           {
            "marker": {
             "line": {
              "color": "#E5ECF6",
              "width": 0.5
             },
             "pattern": {
              "fillmode": "overlay",
              "size": 10,
              "solidity": 0.2
             }
            },
            "type": "barpolar"
           }
          ],
          "carpet": [
           {
            "aaxis": {
             "endlinecolor": "#2a3f5f",
             "gridcolor": "white",
             "linecolor": "white",
             "minorgridcolor": "white",
             "startlinecolor": "#2a3f5f"
            },
            "baxis": {
             "endlinecolor": "#2a3f5f",
             "gridcolor": "white",
             "linecolor": "white",
             "minorgridcolor": "white",
             "startlinecolor": "#2a3f5f"
            },
            "type": "carpet"
           }
          ],
          "choropleth": [
           {
            "colorbar": {
             "outlinewidth": 0,
             "ticks": ""
            },
            "type": "choropleth"
           }
          ],
          "contour": [
           {
            "colorbar": {
             "outlinewidth": 0,
             "ticks": ""
            },
            "colorscale": [
             [
              0,
              "#0d0887"
             ],
             [
              0.1111111111111111,
              "#46039f"
             ],
             [
              0.2222222222222222,
              "#7201a8"
             ],
             [
              0.3333333333333333,
              "#9c179e"
             ],
             [
              0.4444444444444444,
              "#bd3786"
             ],
             [
              0.5555555555555556,
              "#d8576b"
             ],
             [
              0.6666666666666666,
              "#ed7953"
             ],
             [
              0.7777777777777778,
              "#fb9f3a"
             ],
             [
              0.8888888888888888,
              "#fdca26"
             ],
             [
              1,
              "#f0f921"
             ]
            ],
            "type": "contour"
           }
          ],
          "contourcarpet": [
           {
            "colorbar": {
             "outlinewidth": 0,
             "ticks": ""
            },
            "type": "contourcarpet"
           }
          ],
          "heatmap": [
           {
            "colorbar": {
             "outlinewidth": 0,
             "ticks": ""
            },
            "colorscale": [
             [
              0,
              "#0d0887"
             ],
             [
              0.1111111111111111,
              "#46039f"
             ],
             [
              0.2222222222222222,
              "#7201a8"
             ],
             [
              0.3333333333333333,
              "#9c179e"
             ],
             [
              0.4444444444444444,
              "#bd3786"
             ],
             [
              0.5555555555555556,
              "#d8576b"
             ],
             [
              0.6666666666666666,
              "#ed7953"
             ],
             [
              0.7777777777777778,
              "#fb9f3a"
             ],
             [
              0.8888888888888888,
              "#fdca26"
             ],
             [
              1,
              "#f0f921"
             ]
            ],
            "type": "heatmap"
           }
          ],
          "histogram": [
           {
            "marker": {
             "pattern": {
              "fillmode": "overlay",
              "size": 10,
              "solidity": 0.2
             }
            },
            "type": "histogram"
           }
          ],
          "histogram2d": [
           {
            "colorbar": {
             "outlinewidth": 0,
             "ticks": ""
            },
            "colorscale": [
             [
              0,
              "#0d0887"
             ],
             [
              0.1111111111111111,
              "#46039f"
             ],
             [
              0.2222222222222222,
              "#7201a8"
             ],
             [
              0.3333333333333333,
              "#9c179e"
             ],
             [
              0.4444444444444444,
              "#bd3786"
             ],
             [
              0.5555555555555556,
              "#d8576b"
             ],
             [
              0.6666666666666666,
              "#ed7953"
             ],
             [
              0.7777777777777778,
              "#fb9f3a"
             ],
             [
              0.8888888888888888,
              "#fdca26"
             ],
             [
              1,
              "#f0f921"
             ]
            ],
            "type": "histogram2d"
           }
          ],
          "histogram2dcontour": [
           {
            "colorbar": {
             "outlinewidth": 0,
             "ticks": ""
            },
            "colorscale": [
             [
              0,
              "#0d0887"
             ],
             [
              0.1111111111111111,
              "#46039f"
             ],
             [
              0.2222222222222222,
              "#7201a8"
             ],
             [
              0.3333333333333333,
              "#9c179e"
             ],
             [
              0.4444444444444444,
              "#bd3786"
             ],
             [
              0.5555555555555556,
              "#d8576b"
             ],
             [
              0.6666666666666666,
              "#ed7953"
             ],
             [
              0.7777777777777778,
              "#fb9f3a"
             ],
             [
              0.8888888888888888,
              "#fdca26"
             ],
             [
              1,
              "#f0f921"
             ]
            ],
            "type": "histogram2dcontour"
           }
          ],
          "mesh3d": [
           {
            "colorbar": {
             "outlinewidth": 0,
             "ticks": ""
            },
            "type": "mesh3d"
           }
          ],
          "parcoords": [
           {
            "line": {
             "colorbar": {
              "outlinewidth": 0,
              "ticks": ""
             }
            },
            "type": "parcoords"
           }
          ],
          "pie": [
           {
            "automargin": true,
            "type": "pie"
           }
          ],
          "scatter": [
           {
            "fillpattern": {
             "fillmode": "overlay",
             "size": 10,
             "solidity": 0.2
            },
            "type": "scatter"
           }
          ],
          "scatter3d": [
           {
            "line": {
             "colorbar": {
              "outlinewidth": 0,
              "ticks": ""
             }
            },
            "marker": {
             "colorbar": {
              "outlinewidth": 0,
              "ticks": ""
             }
            },
            "type": "scatter3d"
           }
          ],
          "scattercarpet": [
           {
            "marker": {
             "colorbar": {
              "outlinewidth": 0,
              "ticks": ""
             }
            },
            "type": "scattercarpet"
           }
          ],
          "scattergeo": [
           {
            "marker": {
             "colorbar": {
              "outlinewidth": 0,
              "ticks": ""
             }
            },
            "type": "scattergeo"
           }
          ],
          "scattergl": [
           {
            "marker": {
             "colorbar": {
              "outlinewidth": 0,
              "ticks": ""
             }
            },
            "type": "scattergl"
           }
          ],
          "scattermap": [
           {
            "marker": {
             "colorbar": {
              "outlinewidth": 0,
              "ticks": ""
             }
            },
            "type": "scattermap"
           }
          ],
          "scattermapbox": [
           {
            "marker": {
             "colorbar": {
              "outlinewidth": 0,
              "ticks": ""
             }
            },
            "type": "scattermapbox"
           }
          ],
          "scatterpolar": [
           {
            "marker": {
             "colorbar": {
              "outlinewidth": 0,
              "ticks": ""
             }
            },
            "type": "scatterpolar"
           }
          ],
          "scatterpolargl": [
           {
            "marker": {
             "colorbar": {
              "outlinewidth": 0,
              "ticks": ""
             }
            },
            "type": "scatterpolargl"
           }
          ],
          "scatterternary": [
           {
            "marker": {
             "colorbar": {
              "outlinewidth": 0,
              "ticks": ""
             }
            },
            "type": "scatterternary"
           }
          ],
          "surface": [
           {
            "colorbar": {
             "outlinewidth": 0,
             "ticks": ""
            },
            "colorscale": [
             [
              0,
              "#0d0887"
             ],
             [
              0.1111111111111111,
              "#46039f"
             ],
             [
              0.2222222222222222,
              "#7201a8"
             ],
             [
              0.3333333333333333,
              "#9c179e"
             ],
             [
              0.4444444444444444,
              "#bd3786"
             ],
             [
              0.5555555555555556,
              "#d8576b"
             ],
             [
              0.6666666666666666,
              "#ed7953"
             ],
             [
              0.7777777777777778,
              "#fb9f3a"
             ],
             [
              0.8888888888888888,
              "#fdca26"
             ],
             [
              1,
              "#f0f921"
             ]
            ],
            "type": "surface"
           }
          ],
          "table": [
           {
            "cells": {
             "fill": {
              "color": "#EBF0F8"
             },
             "line": {
              "color": "white"
             }
            },
            "header": {
             "fill": {
              "color": "#C8D4E3"
             },
             "line": {
              "color": "white"
             }
            },
            "type": "table"
           }
          ]
         },
         "layout": {
          "annotationdefaults": {
           "arrowcolor": "#2a3f5f",
           "arrowhead": 0,
           "arrowwidth": 1
          },
          "autotypenumbers": "strict",
          "coloraxis": {
           "colorbar": {
            "outlinewidth": 0,
            "ticks": ""
           }
          },
          "colorscale": {
           "diverging": [
            [
             0,
             "#8e0152"
            ],
            [
             0.1,
             "#c51b7d"
            ],
            [
             0.2,
             "#de77ae"
            ],
            [
             0.3,
             "#f1b6da"
            ],
            [
             0.4,
             "#fde0ef"
            ],
            [
             0.5,
             "#f7f7f7"
            ],
            [
             0.6,
             "#e6f5d0"
            ],
            [
             0.7,
             "#b8e186"
            ],
            [
             0.8,
             "#7fbc41"
            ],
            [
             0.9,
             "#4d9221"
            ],
            [
             1,
             "#276419"
            ]
           ],
           "sequential": [
            [
             0,
             "#0d0887"
            ],
            [
             0.1111111111111111,
             "#46039f"
            ],
            [
             0.2222222222222222,
             "#7201a8"
            ],
            [
             0.3333333333333333,
             "#9c179e"
            ],
            [
             0.4444444444444444,
             "#bd3786"
            ],
            [
             0.5555555555555556,
             "#d8576b"
            ],
            [
             0.6666666666666666,
             "#ed7953"
            ],
            [
             0.7777777777777778,
             "#fb9f3a"
            ],
            [
             0.8888888888888888,
             "#fdca26"
            ],
            [
             1,
             "#f0f921"
            ]
           ],
           "sequentialminus": [
            [
             0,
             "#0d0887"
            ],
            [
             0.1111111111111111,
             "#46039f"
            ],
            [
             0.2222222222222222,
             "#7201a8"
            ],
            [
             0.3333333333333333,
             "#9c179e"
            ],
            [
             0.4444444444444444,
             "#bd3786"
            ],
            [
             0.5555555555555556,
             "#d8576b"
            ],
            [
             0.6666666666666666,
             "#ed7953"
            ],
            [
             0.7777777777777778,
             "#fb9f3a"
            ],
            [
             0.8888888888888888,
             "#fdca26"
            ],
            [
             1,
             "#f0f921"
            ]
           ]
          },
          "colorway": [
           "#636efa",
           "#EF553B",
           "#00cc96",
           "#ab63fa",
           "#FFA15A",
           "#19d3f3",
           "#FF6692",
           "#B6E880",
           "#FF97FF",
           "#FECB52"
          ],
          "font": {
           "color": "#2a3f5f"
          },
          "geo": {
           "bgcolor": "white",
           "lakecolor": "white",
           "landcolor": "#E5ECF6",
           "showlakes": true,
           "showland": true,
           "subunitcolor": "white"
          },
          "hoverlabel": {
           "align": "left"
          },
          "hovermode": "closest",
          "mapbox": {
           "style": "light"
          },
          "paper_bgcolor": "white",
          "plot_bgcolor": "#E5ECF6",
          "polar": {
           "angularaxis": {
            "gridcolor": "white",
            "linecolor": "white",
            "ticks": ""
           },
           "bgcolor": "#E5ECF6",
           "radialaxis": {
            "gridcolor": "white",
            "linecolor": "white",
            "ticks": ""
           }
          },
          "scene": {
           "xaxis": {
            "backgroundcolor": "#E5ECF6",
            "gridcolor": "white",
            "gridwidth": 2,
            "linecolor": "white",
            "showbackground": true,
            "ticks": "",
            "zerolinecolor": "white"
           },
           "yaxis": {
            "backgroundcolor": "#E5ECF6",
            "gridcolor": "white",
            "gridwidth": 2,
            "linecolor": "white",
            "showbackground": true,
            "ticks": "",
            "zerolinecolor": "white"
           },
           "zaxis": {
            "backgroundcolor": "#E5ECF6",
            "gridcolor": "white",
            "gridwidth": 2,
            "linecolor": "white",
            "showbackground": true,
            "ticks": "",
            "zerolinecolor": "white"
           }
          },
          "shapedefaults": {
           "line": {
            "color": "#2a3f5f"
           }
          },
          "ternary": {
           "aaxis": {
            "gridcolor": "white",
            "linecolor": "white",
            "ticks": ""
           },
           "baxis": {
            "gridcolor": "white",
            "linecolor": "white",
            "ticks": ""
           },
           "bgcolor": "#E5ECF6",
           "caxis": {
            "gridcolor": "white",
            "linecolor": "white",
            "ticks": ""
           }
          },
          "title": {
           "x": 0.05
          },
          "xaxis": {
           "automargin": true,
           "gridcolor": "white",
           "linecolor": "white",
           "ticks": "",
           "title": {
            "standoff": 15
           },
           "zerolinecolor": "white",
           "zerolinewidth": 2
          },
          "yaxis": {
           "automargin": true,
           "gridcolor": "white",
           "linecolor": "white",
           "ticks": "",
           "title": {
            "standoff": 15
           },
           "zerolinecolor": "white",
           "zerolinewidth": 2
          }
         }
        },
        "title": {
         "text": "Optimization History Plot"
        },
        "xaxis": {
         "title": {
          "text": "Trial"
         }
        },
        "yaxis": {
         "title": {
          "text": "Objective Value"
         }
        }
       }
      }
     },
     "metadata": {},
     "output_type": "display_data"
    }
   ],
   "source": [
    "plot_optimization_history(study)"
   ]
  },
  {
   "cell_type": "code",
   "execution_count": 21,
   "id": "53c91b9c",
   "metadata": {},
   "outputs": [
    {
     "data": {
      "application/vnd.plotly.v1+json": {
       "config": {
        "plotlyServerURL": "https://plot.ly"
       },
       "data": [
        {
         "dimensions": [
          {
           "label": "Objective Value",
           "range": [
            0.07934790285463365,
            6.4709599642191025
           ],
           "values": [
            0.07934790285463365,
            0.17727301909164503,
            0.07934790285463365,
            0.07934790285463365,
            0.07934790285463365,
            5.921688079833984,
            0.12902721652852625,
            3.3434581756591797,
            6.243815230769951,
            0.07934790285463365,
            4.521983623504639,
            0.07934790285463365,
            6.024294376373291,
            0.07934790285463365,
            0.07934790285463365,
            0.5426613001489775,
            6.321178357458152,
            6.470781326293945,
            0.15276531875133514,
            0.17696513204101527,
            6.096181164239372,
            0.07934790285463365,
            0.07934790285463365,
            6.366648758067627,
            0.5131936405582173,
            6.4709599642191025,
            0.07934790285463365,
            2.9589332278507277,
            2.639864842690813,
            0.07934790285463365,
            3.049647952674323,
            2.9088690458003676,
            0.07934790285463365,
            0.07934790285463365,
            0.07934790285463365,
            0.07934790285463365,
            0.07934790285463365,
            0.07934790285463365,
            0.07934790285463365,
            0.07934790285463365,
            0.07934790285463365,
            0.07934790285463365,
            0.5443160512645059,
            0.5443209920941997,
            0.5443209920941997,
            0.5443209920941997,
            0.07934790285463365,
            0.5443209920941997,
            0.5443209920941997,
            0.07934790285463365
           ]
          },
          {
           "label": "model_name",
           "range": [
            0,
            3
           ],
           "ticktext": [
            "LR",
            "RF",
            "XGBR",
            "GBR"
           ],
           "tickvals": [
            0,
            1,
            2,
            3
           ],
           "values": [
            0,
            1,
            0,
            0,
            0,
            2,
            1,
            2,
            3,
            0,
            2,
            0,
            2,
            0,
            0,
            1,
            3,
            2,
            2,
            1,
            3,
            0,
            0,
            3,
            3,
            3,
            0,
            3,
            3,
            0,
            3,
            3,
            0,
            0,
            0,
            0,
            0,
            0,
            0,
            0,
            0,
            0,
            1,
            1,
            1,
            1,
            0,
            1,
            1,
            0
           ]
          }
         ],
         "labelangle": 30,
         "labelside": "bottom",
         "line": {
          "color": [
           0.07934790285463365,
           0.17727301909164503,
           0.07934790285463365,
           0.07934790285463365,
           0.07934790285463365,
           5.921688079833984,
           0.12902721652852625,
           3.3434581756591797,
           6.243815230769951,
           0.07934790285463365,
           4.521983623504639,
           0.07934790285463365,
           6.024294376373291,
           0.07934790285463365,
           0.07934790285463365,
           0.5426613001489775,
           6.321178357458152,
           6.470781326293945,
           0.15276531875133514,
           0.17696513204101527,
           6.096181164239372,
           0.07934790285463365,
           0.07934790285463365,
           6.366648758067627,
           0.5131936405582173,
           6.4709599642191025,
           0.07934790285463365,
           2.9589332278507277,
           2.639864842690813,
           0.07934790285463365,
           3.049647952674323,
           2.9088690458003676,
           0.07934790285463365,
           0.07934790285463365,
           0.07934790285463365,
           0.07934790285463365,
           0.07934790285463365,
           0.07934790285463365,
           0.07934790285463365,
           0.07934790285463365,
           0.07934790285463365,
           0.07934790285463365,
           0.5443160512645059,
           0.5443209920941997,
           0.5443209920941997,
           0.5443209920941997,
           0.07934790285463365,
           0.5443209920941997,
           0.5443209920941997,
           0.07934790285463365
          ],
          "colorbar": {
           "title": {
            "text": "Objective Value"
           }
          },
          "colorscale": [
           [
            0,
            "rgb(247,251,255)"
           ],
           [
            0.125,
            "rgb(222,235,247)"
           ],
           [
            0.25,
            "rgb(198,219,239)"
           ],
           [
            0.375,
            "rgb(158,202,225)"
           ],
           [
            0.5,
            "rgb(107,174,214)"
           ],
           [
            0.625,
            "rgb(66,146,198)"
           ],
           [
            0.75,
            "rgb(33,113,181)"
           ],
           [
            0.875,
            "rgb(8,81,156)"
           ],
           [
            1,
            "rgb(8,48,107)"
           ]
          ],
          "reversescale": true,
          "showscale": true
         },
         "type": "parcoords"
        }
       ],
       "layout": {
        "template": {
         "data": {
          "bar": [
           {
            "error_x": {
             "color": "#2a3f5f"
            },
            "error_y": {
             "color": "#2a3f5f"
            },
            "marker": {
             "line": {
              "color": "#E5ECF6",
              "width": 0.5
             },
             "pattern": {
              "fillmode": "overlay",
              "size": 10,
              "solidity": 0.2
             }
            },
            "type": "bar"
           }
          ],
          "barpolar": [
           {
            "marker": {
             "line": {
              "color": "#E5ECF6",
              "width": 0.5
             },
             "pattern": {
              "fillmode": "overlay",
              "size": 10,
              "solidity": 0.2
             }
            },
            "type": "barpolar"
           }
          ],
          "carpet": [
           {
            "aaxis": {
             "endlinecolor": "#2a3f5f",
             "gridcolor": "white",
             "linecolor": "white",
             "minorgridcolor": "white",
             "startlinecolor": "#2a3f5f"
            },
            "baxis": {
             "endlinecolor": "#2a3f5f",
             "gridcolor": "white",
             "linecolor": "white",
             "minorgridcolor": "white",
             "startlinecolor": "#2a3f5f"
            },
            "type": "carpet"
           }
          ],
          "choropleth": [
           {
            "colorbar": {
             "outlinewidth": 0,
             "ticks": ""
            },
            "type": "choropleth"
           }
          ],
          "contour": [
           {
            "colorbar": {
             "outlinewidth": 0,
             "ticks": ""
            },
            "colorscale": [
             [
              0,
              "#0d0887"
             ],
             [
              0.1111111111111111,
              "#46039f"
             ],
             [
              0.2222222222222222,
              "#7201a8"
             ],
             [
              0.3333333333333333,
              "#9c179e"
             ],
             [
              0.4444444444444444,
              "#bd3786"
             ],
             [
              0.5555555555555556,
              "#d8576b"
             ],
             [
              0.6666666666666666,
              "#ed7953"
             ],
             [
              0.7777777777777778,
              "#fb9f3a"
             ],
             [
              0.8888888888888888,
              "#fdca26"
             ],
             [
              1,
              "#f0f921"
             ]
            ],
            "type": "contour"
           }
          ],
          "contourcarpet": [
           {
            "colorbar": {
             "outlinewidth": 0,
             "ticks": ""
            },
            "type": "contourcarpet"
           }
          ],
          "heatmap": [
           {
            "colorbar": {
             "outlinewidth": 0,
             "ticks": ""
            },
            "colorscale": [
             [
              0,
              "#0d0887"
             ],
             [
              0.1111111111111111,
              "#46039f"
             ],
             [
              0.2222222222222222,
              "#7201a8"
             ],
             [
              0.3333333333333333,
              "#9c179e"
             ],
             [
              0.4444444444444444,
              "#bd3786"
             ],
             [
              0.5555555555555556,
              "#d8576b"
             ],
             [
              0.6666666666666666,
              "#ed7953"
             ],
             [
              0.7777777777777778,
              "#fb9f3a"
             ],
             [
              0.8888888888888888,
              "#fdca26"
             ],
             [
              1,
              "#f0f921"
             ]
            ],
            "type": "heatmap"
           }
          ],
          "histogram": [
           {
            "marker": {
             "pattern": {
              "fillmode": "overlay",
              "size": 10,
              "solidity": 0.2
             }
            },
            "type": "histogram"
           }
          ],
          "histogram2d": [
           {
            "colorbar": {
             "outlinewidth": 0,
             "ticks": ""
            },
            "colorscale": [
             [
              0,
              "#0d0887"
             ],
             [
              0.1111111111111111,
              "#46039f"
             ],
             [
              0.2222222222222222,
              "#7201a8"
             ],
             [
              0.3333333333333333,
              "#9c179e"
             ],
             [
              0.4444444444444444,
              "#bd3786"
             ],
             [
              0.5555555555555556,
              "#d8576b"
             ],
             [
              0.6666666666666666,
              "#ed7953"
             ],
             [
              0.7777777777777778,
              "#fb9f3a"
             ],
             [
              0.8888888888888888,
              "#fdca26"
             ],
             [
              1,
              "#f0f921"
             ]
            ],
            "type": "histogram2d"
           }
          ],
          "histogram2dcontour": [
           {
            "colorbar": {
             "outlinewidth": 0,
             "ticks": ""
            },
            "colorscale": [
             [
              0,
              "#0d0887"
             ],
             [
              0.1111111111111111,
              "#46039f"
             ],
             [
              0.2222222222222222,
              "#7201a8"
             ],
             [
              0.3333333333333333,
              "#9c179e"
             ],
             [
              0.4444444444444444,
              "#bd3786"
             ],
             [
              0.5555555555555556,
              "#d8576b"
             ],
             [
              0.6666666666666666,
              "#ed7953"
             ],
             [
              0.7777777777777778,
              "#fb9f3a"
             ],
             [
              0.8888888888888888,
              "#fdca26"
             ],
             [
              1,
              "#f0f921"
             ]
            ],
            "type": "histogram2dcontour"
           }
          ],
          "mesh3d": [
           {
            "colorbar": {
             "outlinewidth": 0,
             "ticks": ""
            },
            "type": "mesh3d"
           }
          ],
          "parcoords": [
           {
            "line": {
             "colorbar": {
              "outlinewidth": 0,
              "ticks": ""
             }
            },
            "type": "parcoords"
           }
          ],
          "pie": [
           {
            "automargin": true,
            "type": "pie"
           }
          ],
          "scatter": [
           {
            "fillpattern": {
             "fillmode": "overlay",
             "size": 10,
             "solidity": 0.2
            },
            "type": "scatter"
           }
          ],
          "scatter3d": [
           {
            "line": {
             "colorbar": {
              "outlinewidth": 0,
              "ticks": ""
             }
            },
            "marker": {
             "colorbar": {
              "outlinewidth": 0,
              "ticks": ""
             }
            },
            "type": "scatter3d"
           }
          ],
          "scattercarpet": [
           {
            "marker": {
             "colorbar": {
              "outlinewidth": 0,
              "ticks": ""
             }
            },
            "type": "scattercarpet"
           }
          ],
          "scattergeo": [
           {
            "marker": {
             "colorbar": {
              "outlinewidth": 0,
              "ticks": ""
             }
            },
            "type": "scattergeo"
           }
          ],
          "scattergl": [
           {
            "marker": {
             "colorbar": {
              "outlinewidth": 0,
              "ticks": ""
             }
            },
            "type": "scattergl"
           }
          ],
          "scattermap": [
           {
            "marker": {
             "colorbar": {
              "outlinewidth": 0,
              "ticks": ""
             }
            },
            "type": "scattermap"
           }
          ],
          "scattermapbox": [
           {
            "marker": {
             "colorbar": {
              "outlinewidth": 0,
              "ticks": ""
             }
            },
            "type": "scattermapbox"
           }
          ],
          "scatterpolar": [
           {
            "marker": {
             "colorbar": {
              "outlinewidth": 0,
              "ticks": ""
             }
            },
            "type": "scatterpolar"
           }
          ],
          "scatterpolargl": [
           {
            "marker": {
             "colorbar": {
              "outlinewidth": 0,
              "ticks": ""
             }
            },
            "type": "scatterpolargl"
           }
          ],
          "scatterternary": [
           {
            "marker": {
             "colorbar": {
              "outlinewidth": 0,
              "ticks": ""
             }
            },
            "type": "scatterternary"
           }
          ],
          "surface": [
           {
            "colorbar": {
             "outlinewidth": 0,
             "ticks": ""
            },
            "colorscale": [
             [
              0,
              "#0d0887"
             ],
             [
              0.1111111111111111,
              "#46039f"
             ],
             [
              0.2222222222222222,
              "#7201a8"
             ],
             [
              0.3333333333333333,
              "#9c179e"
             ],
             [
              0.4444444444444444,
              "#bd3786"
             ],
             [
              0.5555555555555556,
              "#d8576b"
             ],
             [
              0.6666666666666666,
              "#ed7953"
             ],
             [
              0.7777777777777778,
              "#fb9f3a"
             ],
             [
              0.8888888888888888,
              "#fdca26"
             ],
             [
              1,
              "#f0f921"
             ]
            ],
            "type": "surface"
           }
          ],
          "table": [
           {
            "cells": {
             "fill": {
              "color": "#EBF0F8"
             },
             "line": {
              "color": "white"
             }
            },
            "header": {
             "fill": {
              "color": "#C8D4E3"
             },
             "line": {
              "color": "white"
             }
            },
            "type": "table"
           }
          ]
         },
         "layout": {
          "annotationdefaults": {
           "arrowcolor": "#2a3f5f",
           "arrowhead": 0,
           "arrowwidth": 1
          },
          "autotypenumbers": "strict",
          "coloraxis": {
           "colorbar": {
            "outlinewidth": 0,
            "ticks": ""
           }
          },
          "colorscale": {
           "diverging": [
            [
             0,
             "#8e0152"
            ],
            [
             0.1,
             "#c51b7d"
            ],
            [
             0.2,
             "#de77ae"
            ],
            [
             0.3,
             "#f1b6da"
            ],
            [
             0.4,
             "#fde0ef"
            ],
            [
             0.5,
             "#f7f7f7"
            ],
            [
             0.6,
             "#e6f5d0"
            ],
            [
             0.7,
             "#b8e186"
            ],
            [
             0.8,
             "#7fbc41"
            ],
            [
             0.9,
             "#4d9221"
            ],
            [
             1,
             "#276419"
            ]
           ],
           "sequential": [
            [
             0,
             "#0d0887"
            ],
            [
             0.1111111111111111,
             "#46039f"
            ],
            [
             0.2222222222222222,
             "#7201a8"
            ],
            [
             0.3333333333333333,
             "#9c179e"
            ],
            [
             0.4444444444444444,
             "#bd3786"
            ],
            [
             0.5555555555555556,
             "#d8576b"
            ],
            [
             0.6666666666666666,
             "#ed7953"
            ],
            [
             0.7777777777777778,
             "#fb9f3a"
            ],
            [
             0.8888888888888888,
             "#fdca26"
            ],
            [
             1,
             "#f0f921"
            ]
           ],
           "sequentialminus": [
            [
             0,
             "#0d0887"
            ],
            [
             0.1111111111111111,
             "#46039f"
            ],
            [
             0.2222222222222222,
             "#7201a8"
            ],
            [
             0.3333333333333333,
             "#9c179e"
            ],
            [
             0.4444444444444444,
             "#bd3786"
            ],
            [
             0.5555555555555556,
             "#d8576b"
            ],
            [
             0.6666666666666666,
             "#ed7953"
            ],
            [
             0.7777777777777778,
             "#fb9f3a"
            ],
            [
             0.8888888888888888,
             "#fdca26"
            ],
            [
             1,
             "#f0f921"
            ]
           ]
          },
          "colorway": [
           "#636efa",
           "#EF553B",
           "#00cc96",
           "#ab63fa",
           "#FFA15A",
           "#19d3f3",
           "#FF6692",
           "#B6E880",
           "#FF97FF",
           "#FECB52"
          ],
          "font": {
           "color": "#2a3f5f"
          },
          "geo": {
           "bgcolor": "white",
           "lakecolor": "white",
           "landcolor": "#E5ECF6",
           "showlakes": true,
           "showland": true,
           "subunitcolor": "white"
          },
          "hoverlabel": {
           "align": "left"
          },
          "hovermode": "closest",
          "mapbox": {
           "style": "light"
          },
          "paper_bgcolor": "white",
          "plot_bgcolor": "#E5ECF6",
          "polar": {
           "angularaxis": {
            "gridcolor": "white",
            "linecolor": "white",
            "ticks": ""
           },
           "bgcolor": "#E5ECF6",
           "radialaxis": {
            "gridcolor": "white",
            "linecolor": "white",
            "ticks": ""
           }
          },
          "scene": {
           "xaxis": {
            "backgroundcolor": "#E5ECF6",
            "gridcolor": "white",
            "gridwidth": 2,
            "linecolor": "white",
            "showbackground": true,
            "ticks": "",
            "zerolinecolor": "white"
           },
           "yaxis": {
            "backgroundcolor": "#E5ECF6",
            "gridcolor": "white",
            "gridwidth": 2,
            "linecolor": "white",
            "showbackground": true,
            "ticks": "",
            "zerolinecolor": "white"
           },
           "zaxis": {
            "backgroundcolor": "#E5ECF6",
            "gridcolor": "white",
            "gridwidth": 2,
            "linecolor": "white",
            "showbackground": true,
            "ticks": "",
            "zerolinecolor": "white"
           }
          },
          "shapedefaults": {
           "line": {
            "color": "#2a3f5f"
           }
          },
          "ternary": {
           "aaxis": {
            "gridcolor": "white",
            "linecolor": "white",
            "ticks": ""
           },
           "baxis": {
            "gridcolor": "white",
            "linecolor": "white",
            "ticks": ""
           },
           "bgcolor": "#E5ECF6",
           "caxis": {
            "gridcolor": "white",
            "linecolor": "white",
            "ticks": ""
           }
          },
          "title": {
           "x": 0.05
          },
          "xaxis": {
           "automargin": true,
           "gridcolor": "white",
           "linecolor": "white",
           "ticks": "",
           "title": {
            "standoff": 15
           },
           "zerolinecolor": "white",
           "zerolinewidth": 2
          },
          "yaxis": {
           "automargin": true,
           "gridcolor": "white",
           "linecolor": "white",
           "ticks": "",
           "title": {
            "standoff": 15
           },
           "zerolinecolor": "white",
           "zerolinewidth": 2
          }
         }
        },
        "title": {
         "text": "Parallel Coordinate Plot"
        }
       }
      }
     },
     "metadata": {},
     "output_type": "display_data"
    }
   ],
   "source": [
    "plot_parallel_coordinate(study, params=[\"model_name\"])"
   ]
  },
  {
   "cell_type": "code",
   "execution_count": 22,
   "id": "2794ed41",
   "metadata": {},
   "outputs": [
    {
     "name": "stdout",
     "output_type": "stream",
     "text": [
      "The training error is  0.08778013304567367\n",
      "The test error is  0.07934790285463365\n"
     ]
    }
   ],
   "source": [
    "# train the linear regression model\n",
    "\n",
    "lr = LinearRegression()\n",
    "\n",
    "lr.fit(X_train_encoded, y_train)\n",
    "\n",
    "# get predictions\n",
    "y_pred_train = lr.predict(X_train_encoded) \n",
    "y_pred_test = lr.predict(X_test_encoded)\n",
    "\n",
    "# loss\n",
    "\n",
    "mape_train = mean_absolute_percentage_error(y_train, y_pred_train)\n",
    "mape_test = mean_absolute_percentage_error(y_test, y_pred_test)\n",
    "\n",
    "print(\"The training error is \", mape_train)\n",
    "print(\"The test error is \", mape_test)\n"
   ]
  },
  {
   "cell_type": "code",
   "execution_count": 23,
   "id": "c7ad2c2a",
   "metadata": {},
   "outputs": [
    {
     "data": {
      "text/plain": [
       "array([-2.33737604,  0.71512405, -0.55601505, -1.25311068, -3.20463231,\n",
       "       -0.86685973, -2.79925402, -3.62516859,  0.41386463, -2.9376376 ,\n",
       "       -1.97624678, -3.75050442,  0.51806283, -2.54033388, -2.43297463,\n",
       "        0.47632075,  0.61254786, -4.7417372 , -2.03077217, -1.26960984,\n",
       "       -4.03690273, -2.08863167, -1.0414428 ,  0.73561736, -0.99999442,\n",
       "       -0.85944985, -2.43098478,  0.67112238,  0.57385071, -0.11719951,\n",
       "       -0.28045898, -0.37180749, -0.5238324 , -0.4233113 , -0.34045774,\n",
       "       -0.54170892, -0.36264553, -0.2493965 , -0.31905518,  2.4912456 ])"
      ]
     },
     "execution_count": 23,
     "metadata": {},
     "output_type": "execute_result"
    }
   ],
   "source": [
    "lr.coef_"
   ]
  },
  {
   "cell_type": "code",
   "execution_count": 24,
   "id": "be3741cf",
   "metadata": {},
   "outputs": [],
   "source": [
    "def tune_ridge(trial):\n",
    "    # hyperparameter space\n",
    "    alpha = trial.suggest_float(\"alpha\",30,100)\n",
    "    \n",
    "    # make the model object\n",
    "    ridge = Ridge(alpha=alpha, random_state=42)\n",
    "    \n",
    "    # train the model\n",
    "    ridge.fit(X_train_encoded, y_train)\n",
    "    \n",
    "    # get predictions\n",
    "    y_pred = ridge.predict(X_test_encoded)\n",
    "    \n",
    "    # calculate loss\n",
    "    loss = mean_absolute_percentage_error(y_test, y_pred)\n",
    "\n",
    "    return loss"
   ]
  },
  {
   "cell_type": "code",
   "execution_count": 25,
   "id": "19c49b8f",
   "metadata": {},
   "outputs": [
    {
     "name": "stderr",
     "output_type": "stream",
     "text": [
      "[I 2025-08-24 00:35:49,138] A new study created in memory with name: tune_model\n"
     ]
    }
   ],
   "source": [
    "\n",
    "# create study\n",
    "\n",
    "study = optuna.create_study(study_name=\"tune_model\", direction=\"minimize\")"
   ]
  },
  {
   "cell_type": "code",
   "execution_count": 26,
   "id": "e33f70da",
   "metadata": {},
   "outputs": [
    {
     "data": {
      "application/vnd.jupyter.widget-view+json": {
       "model_id": "717db77d3b6a4bbebf7b481c78c1e67b",
       "version_major": 2,
       "version_minor": 0
      },
      "text/plain": [
       "  0%|          | 0/100 [00:00<?, ?it/s]"
      ]
     },
     "metadata": {},
     "output_type": "display_data"
    },
    {
     "name": "stdout",
     "output_type": "stream",
     "text": [
      "[I 2025-08-24 00:35:49,438] Trial 9 finished with value: 0.07919196515138208 and parameters: {'alpha': 79.08336625130552}. Best is trial 9 with value: 0.07919196515138208.\n",
      "[I 2025-08-24 00:35:49,469] Trial 1 finished with value: 0.07919934960348221 and parameters: {'alpha': 74.00442002421727}. Best is trial 9 with value: 0.07919196515138208.\n",
      "[I 2025-08-24 00:35:49,485] Trial 8 finished with value: 0.07926791179891388 and parameters: {'alpha': 33.84645273060319}. Best is trial 9 with value: 0.07919196515138208.\n",
      "[I 2025-08-24 00:35:49,494] Trial 13 finished with value: 0.07916536788600789 and parameters: {'alpha': 98.94054601658382}. Best is trial 13 with value: 0.07916536788600789.\n",
      "[I 2025-08-24 00:35:49,503] Trial 6 finished with value: 0.07916849825204239 and parameters: {'alpha': 96.42961989212678}. Best is trial 13 with value: 0.07916536788600789.\n",
      "[I 2025-08-24 00:35:49,504] Trial 11 finished with value: 0.07917130716326046 and parameters: {'alpha': 94.2222696765011}. Best is trial 13 with value: 0.07916536788600789.\n",
      "[I 2025-08-24 00:35:49,504] Trial 7 finished with value: 0.07918954790165293 and parameters: {'alpha': 80.77765124266328}. Best is trial 13 with value: 0.07916536788600789.\n",
      "[I 2025-08-24 00:35:49,506] Trial 0 finished with value: 0.07923827665103922 and parameters: {'alpha': 49.58847691589196}. Best is trial 13 with value: 0.07916536788600789.\n",
      "[I 2025-08-24 00:35:49,506] Trial 3 finished with value: 0.07924972322242838 and parameters: {'alpha': 43.259612729459}. Best is trial 13 with value: 0.07916536788600789.\n",
      "[I 2025-08-24 00:35:49,514] Trial 4 finished with value: 0.07923499907510206 and parameters: {'alpha': 51.47546647158467}. Best is trial 13 with value: 0.07916536788600789.\n",
      "[I 2025-08-24 00:35:49,514] Trial 12 finished with value: 0.07921508863131226 and parameters: {'alpha': 63.59212964214383}. Best is trial 13 with value: 0.07916536788600789.\n",
      "[I 2025-08-24 00:35:49,515] Trial 5 finished with value: 0.07920304526992139 and parameters: {'alpha': 71.50573517899579}. Best is trial 13 with value: 0.07916536788600789.\n",
      "[I 2025-08-24 00:35:49,750] Trial 22 finished with value: 0.07916677870811033 and parameters: {'alpha': 97.8029584277884}. Best is trial 18 with value: 0.07916439643506014.\n",
      "[I 2025-08-24 00:35:49,515] Trial 14 finished with value: 0.07920895735307343 and parameters: {'alpha': 67.56963971884264}. Best is trial 13 with value: 0.07916536788600789.\n",
      "[I 2025-08-24 00:35:49,531] Trial 10 finished with value: 0.07924005166369688 and parameters: {'alpha': 48.58004725555833}. Best is trial 13 with value: 0.07916536788600789.\n",
      "[I 2025-08-24 00:35:49,537] Trial 15 finished with value: 0.0792376005586868 and parameters: {'alpha': 49.97485127594864}. Best is trial 13 with value: 0.07916536788600789.\n",
      "[I 2025-08-24 00:35:49,647] Trial 16 finished with value: 0.07920424779749381 and parameters: {'alpha': 70.69816115611481}. Best is trial 13 with value: 0.07916536788600789.\n",
      "[I 2025-08-24 00:35:49,725] Trial 17 finished with value: 0.07917056327720744 and parameters: {'alpha': 94.80028930831232}. Best is trial 13 with value: 0.07916536788600789.\n",
      "[I 2025-08-24 00:35:49,726] Trial 19 finished with value: 0.07916720689523643 and parameters: {'alpha': 97.45870323613076}. Best is trial 13 with value: 0.07916536788600789.\n",
      "[I 2025-08-24 00:35:49,730] Trial 20 finished with value: 0.0791657342585678 and parameters: {'alpha': 98.64463585083087}. Best is trial 13 with value: 0.07916536788600789.\n",
      "[I 2025-08-24 00:35:49,742] Trial 18 finished with value: 0.07916439643506014 and parameters: {'alpha': 99.73048192094092}. Best is trial 18 with value: 0.07916439643506014.\n",
      "[I 2025-08-24 00:35:49,515] Trial 2 finished with value: 0.07925829185875537 and parameters: {'alpha': 38.74461238176775}. Best is trial 13 with value: 0.07916536788600789.\n",
      "[I 2025-08-24 00:35:49,822] Trial 21 finished with value: 0.07916867570693453 and parameters: {'alpha': 96.28869585745737}. Best is trial 18 with value: 0.07916439643506014.\n",
      "[I 2025-08-24 00:35:49,853] Trial 25 finished with value: 0.079164587988104 and parameters: {'alpha': 99.57448193996531}. Best is trial 18 with value: 0.07916439643506014.\n",
      "[I 2025-08-24 00:35:49,896] Trial 24 finished with value: 0.07916763959536753 and parameters: {'alpha': 97.11303375135313}. Best is trial 18 with value: 0.07916439643506014.\n",
      "[I 2025-08-24 00:35:49,907] Trial 23 finished with value: 0.0791660919923501 and parameters: {'alpha': 98.35625883987612}. Best is trial 18 with value: 0.07916439643506014.\n",
      "[I 2025-08-24 00:35:49,915] Trial 28 finished with value: 0.07918002772814205 and parameters: {'alpha': 87.64689862485855}. Best is trial 18 with value: 0.07916439643506014.\n",
      "[I 2025-08-24 00:35:49,924] Trial 26 finished with value: 0.07916466999985465 and parameters: {'alpha': 99.50771105580557}. Best is trial 18 with value: 0.07916439643506014.\n",
      "[I 2025-08-24 00:35:49,963] Trial 29 finished with value: 0.07918126213082548 and parameters: {'alpha': 86.73507758138804}. Best is trial 18 with value: 0.07916439643506014.\n",
      "[I 2025-08-24 00:35:49,968] Trial 30 finished with value: 0.07917998030921443 and parameters: {'alpha': 87.68199541509932}. Best is trial 18 with value: 0.07916439643506014.\n",
      "[I 2025-08-24 00:35:50,017] Trial 27 finished with value: 0.07918027724889477 and parameters: {'alpha': 87.46223882780095}. Best is trial 18 with value: 0.07916439643506014.\n",
      "[I 2025-08-24 00:35:50,134] Trial 32 finished with value: 0.07917944379331454 and parameters: {'alpha': 88.07941330990958}. Best is trial 18 with value: 0.07916439643506014.\n",
      "[I 2025-08-24 00:35:50,136] Trial 31 finished with value: 0.07918016714722363 and parameters: {'alpha': 87.54371568070219}. Best is trial 18 with value: 0.07916439643506014.\n",
      "[I 2025-08-24 00:35:50,148] Trial 33 finished with value: 0.079180133345333 and parameters: {'alpha': 87.56873121261634}. Best is trial 18 with value: 0.07916439643506014.\n",
      "[I 2025-08-24 00:35:50,149] Trial 37 finished with value: 0.07917595598179296 and parameters: {'alpha': 90.68196897599711}. Best is trial 18 with value: 0.07916439643506014.\n",
      "[I 2025-08-24 00:35:50,184] Trial 34 finished with value: 0.07917935601825286 and parameters: {'alpha': 88.14452282091531}. Best is trial 18 with value: 0.07916439643506014.\n",
      "[I 2025-08-24 00:35:50,194] Trial 35 finished with value: 0.07917973938832086 and parameters: {'alpha': 87.8603303266789}. Best is trial 18 with value: 0.07916439643506014.\n",
      "[I 2025-08-24 00:35:50,208] Trial 39 finished with value: 0.07917536819785935 and parameters: {'alpha': 91.12535163728138}. Best is trial 18 with value: 0.07916439643506014.\n",
      "[I 2025-08-24 00:35:50,222] Trial 38 finished with value: 0.07922127965495242 and parameters: {'alpha': 59.703048872467605}. Best is trial 18 with value: 0.07916439643506014.\n",
      "[I 2025-08-24 00:35:50,223] Trial 36 finished with value: 0.07917837637523042 and parameters: {'alpha': 88.87235006480779}. Best is trial 18 with value: 0.07916439643506014.\n",
      "[I 2025-08-24 00:35:50,275] Trial 41 finished with value: 0.07917548677693358 and parameters: {'alpha': 91.03583703266037}. Best is trial 18 with value: 0.07916439643506014.\n",
      "[I 2025-08-24 00:35:50,289] Trial 40 finished with value: 0.07917511538574461 and parameters: {'alpha': 91.31628500167524}. Best is trial 18 with value: 0.07916439643506014.\n",
      "[I 2025-08-24 00:35:50,308] Trial 42 finished with value: 0.07917626313369155 and parameters: {'alpha': 90.45117815158696}. Best is trial 18 with value: 0.07916439643506014.\n",
      "[I 2025-08-24 00:35:50,391] Trial 44 finished with value: 0.0791871766461408 and parameters: {'alpha': 82.45011607668971}. Best is trial 18 with value: 0.07916439643506014.\n",
      "[I 2025-08-24 00:35:50,423] Trial 45 finished with value: 0.07919202037336762 and parameters: {'alpha': 79.04473100070754}. Best is trial 18 with value: 0.07916439643506014.\n",
      "[I 2025-08-24 00:35:50,437] Trial 46 finished with value: 0.07919045519176438 and parameters: {'alpha': 80.1408682761568}. Best is trial 18 with value: 0.07916439643506014.\n",
      "[I 2025-08-24 00:35:50,444] Trial 43 finished with value: 0.07919021108329606 and parameters: {'alpha': 80.3119893399267}. Best is trial 18 with value: 0.07916439643506014.\n",
      "[I 2025-08-24 00:35:50,446] Trial 47 finished with value: 0.07918753408041138 and parameters: {'alpha': 82.1965246221254}. Best is trial 18 with value: 0.07916439643506014.\n",
      "[I 2025-08-24 00:35:50,496] Trial 48 finished with value: 0.07918770222052643 and parameters: {'alpha': 82.07773799929217}. Best is trial 18 with value: 0.07916439643506014.\n",
      "[I 2025-08-24 00:35:50,541] Trial 51 finished with value: 0.07918769803502317 and parameters: {'alpha': 82.08069438818217}. Best is trial 18 with value: 0.07916439643506014.\n",
      "[I 2025-08-24 00:35:50,542] Trial 49 finished with value: 0.07918893665125351 and parameters: {'alpha': 81.20733237238503}. Best is trial 18 with value: 0.07916439643506014.\n",
      "[I 2025-08-24 00:35:50,547] Trial 50 finished with value: 0.07916413192969954 and parameters: {'alpha': 99.94593355726326}. Best is trial 50 with value: 0.07916413192969954.\n",
      "[I 2025-08-24 00:35:50,556] Trial 53 finished with value: 0.07916507601269519 and parameters: {'alpha': 99.17725730218035}. Best is trial 50 with value: 0.07916413192969954.\n",
      "[I 2025-08-24 00:35:50,610] Trial 55 finished with value: 0.07916454025166307 and parameters: {'alpha': 99.61335242203626}. Best is trial 50 with value: 0.07916413192969954.\n",
      "[I 2025-08-24 00:35:50,616] Trial 52 finished with value: 0.07918921440236969 and parameters: {'alpha': 81.01203302859773}. Best is trial 50 with value: 0.07916413192969954.\n",
      "[I 2025-08-24 00:35:50,674] Trial 54 finished with value: 0.07916497804410419 and parameters: {'alpha': 99.25694499640113}. Best is trial 50 with value: 0.07916413192969954.\n",
      "[I 2025-08-24 00:35:50,687] Trial 56 finished with value: 0.07916541249121511 and parameters: {'alpha': 98.90438957663142}. Best is trial 50 with value: 0.07916413192969954.\n",
      "[I 2025-08-24 00:35:50,748] Trial 57 finished with value: 0.07916445840363023 and parameters: {'alpha': 99.68001109946252}. Best is trial 50 with value: 0.07916413192969954.\n",
      "[I 2025-08-24 00:35:50,754] Trial 59 finished with value: 0.07916421547461291 and parameters: {'alpha': 99.87787839673118}. Best is trial 50 with value: 0.07916413192969954.\n",
      "[I 2025-08-24 00:35:50,754] Trial 58 finished with value: 0.07916407057735016 and parameters: {'alpha': 99.99591316320945}. Best is trial 58 with value: 0.07916407057735016.\n",
      "[I 2025-08-24 00:35:50,764] Trial 60 finished with value: 0.07917132566908887 and parameters: {'alpha': 94.20791805929596}. Best is trial 58 with value: 0.07916407057735016.\n",
      "[I 2025-08-24 00:35:50,861] Trial 62 finished with value: 0.07917213294371303 and parameters: {'alpha': 93.58600767704549}. Best is trial 58 with value: 0.07916407057735016.\n",
      "[I 2025-08-24 00:35:50,880] Trial 64 finished with value: 0.0791706468968796 and parameters: {'alpha': 94.73502671635468}. Best is trial 58 with value: 0.07916407057735016.\n",
      "[I 2025-08-24 00:35:50,880] Trial 61 finished with value: 0.07917202780522967 and parameters: {'alpha': 93.6666775783085}. Best is trial 58 with value: 0.07916407057735016.\n",
      "[I 2025-08-24 00:35:50,903] Trial 63 finished with value: 0.07917112090020151 and parameters: {'alpha': 94.36673342191392}. Best is trial 58 with value: 0.07916407057735016.\n",
      "[I 2025-08-24 00:35:50,956] Trial 67 finished with value: 0.07917138269569354 and parameters: {'alpha': 94.16369388127895}. Best is trial 58 with value: 0.07916407057735016.\n",
      "[I 2025-08-24 00:35:50,959] Trial 66 finished with value: 0.07917195810036104 and parameters: {'alpha': 93.72018823410438}. Best is trial 58 with value: 0.07916407057735016.\n",
      "[I 2025-08-24 00:35:50,961] Trial 65 finished with value: 0.07917135015136728 and parameters: {'alpha': 94.18893184406186}. Best is trial 58 with value: 0.07916407057735016.\n",
      "[I 2025-08-24 00:35:50,994] Trial 68 finished with value: 0.07917132678934878 and parameters: {'alpha': 94.20704928287469}. Best is trial 58 with value: 0.07916407057735016.\n",
      "[I 2025-08-24 00:35:51,031] Trial 69 finished with value: 0.07917041871186 and parameters: {'alpha': 94.91320509834199}. Best is trial 58 with value: 0.07916407057735016.\n",
      "[I 2025-08-24 00:35:51,081] Trial 71 finished with value: 0.07926556948781675 and parameters: {'alpha': 35.022351862956576}. Best is trial 58 with value: 0.07916407057735016.\n",
      "[I 2025-08-24 00:35:51,287] Trial 78 finished with value: 0.07916418961600358 and parameters: {'alpha': 99.89894225844554}. Best is trial 80 with value: 0.07916406809192203.\n",
      "[I 2025-08-24 00:35:51,103] Trial 70 finished with value: 0.07916936007472118 and parameters: {'alpha': 95.7453786253423}. Best is trial 58 with value: 0.07916407057735016.\n",
      "[I 2025-08-24 00:35:51,196] Trial 75 finished with value: 0.07927445432677911 and parameters: {'alpha': 30.621170719445438}. Best is trial 58 with value: 0.07916407057735016.\n",
      "[I 2025-08-24 00:35:51,210] Trial 73 finished with value: 0.0791683623318853 and parameters: {'alpha': 96.53757920079575}. Best is trial 58 with value: 0.07916407057735016.\n",
      "[I 2025-08-24 00:35:51,211] Trial 76 finished with value: 0.0791688864417016 and parameters: {'alpha': 96.1213662740704}. Best is trial 58 with value: 0.07916407057735016.\n",
      "[I 2025-08-24 00:35:51,217] Trial 74 finished with value: 0.07927296270539248 and parameters: {'alpha': 31.35091882586987}. Best is trial 58 with value: 0.07916407057735016.\n",
      "[I 2025-08-24 00:35:51,279] Trial 80 finished with value: 0.07916406809192203 and parameters: {'alpha': 99.99793791618914}. Best is trial 80 with value: 0.07916406809192203.\n",
      "[I 2025-08-24 00:35:51,087] Trial 72 finished with value: 0.07927557049586877 and parameters: {'alpha': 30.076482496292847}. Best is trial 58 with value: 0.07916407057735016.\n",
      "[I 2025-08-24 00:35:51,289] Trial 79 finished with value: 0.0791677099557215 and parameters: {'alpha': 97.05686158393446}. Best is trial 80 with value: 0.07916406809192203.\n",
      "[I 2025-08-24 00:35:51,321] Trial 77 finished with value: 0.07916772730208552 and parameters: {'alpha': 97.04301351439567}. Best is trial 80 with value: 0.07916406809192203.\n",
      "[I 2025-08-24 00:35:51,378] Trial 81 finished with value: 0.07916793526030118 and parameters: {'alpha': 96.8771463730134}. Best is trial 80 with value: 0.07916406809192203.\n",
      "[I 2025-08-24 00:35:51,396] Trial 82 finished with value: 0.07916421326049114 and parameters: {'alpha': 99.8796819576844}. Best is trial 80 with value: 0.07916406809192203.\n",
      "[I 2025-08-24 00:35:51,463] Trial 84 finished with value: 0.07916469202649466 and parameters: {'alpha': 99.48977840276629}. Best is trial 80 with value: 0.07916406809192203.\n",
      "[I 2025-08-24 00:35:51,486] Trial 83 finished with value: 0.07916426822801916 and parameters: {'alpha': 99.83490772103126}. Best is trial 80 with value: 0.07916406809192203.\n",
      "[I 2025-08-24 00:35:51,495] Trial 87 finished with value: 0.07922386822198756 and parameters: {'alpha': 58.104676265622516}. Best is trial 80 with value: 0.07916406809192203.\n",
      "[I 2025-08-24 00:35:51,496] Trial 85 finished with value: 0.0791646200725744 and parameters: {'alpha': 99.54835954355042}. Best is trial 80 with value: 0.07916406809192203.\n",
      "[I 2025-08-24 00:35:51,508] Trial 88 finished with value: 0.07916411060906012 and parameters: {'alpha': 99.96330181060065}. Best is trial 80 with value: 0.07916406809192203.\n",
      "[I 2025-08-24 00:35:51,538] Trial 86 finished with value: 0.07918404669794181 and parameters: {'alpha': 84.69790743312173}. Best is trial 80 with value: 0.07916406809192203.\n",
      "[I 2025-08-24 00:35:51,560] Trial 89 finished with value: 0.07916426093859408 and parameters: {'alpha': 99.8408452883331}. Best is trial 80 with value: 0.07916406809192203.\n",
      "[I 2025-08-24 00:35:51,592] Trial 90 finished with value: 0.07916410332107766 and parameters: {'alpha': 99.96923881494538}. Best is trial 80 with value: 0.07916406809192203.\n",
      "[I 2025-08-24 00:35:51,664] Trial 93 finished with value: 0.07917351218865601 and parameters: {'alpha': 92.53176356497205}. Best is trial 80 with value: 0.07916406809192203.\n",
      "[I 2025-08-24 00:35:51,668] Trial 91 finished with value: 0.07917402196035203 and parameters: {'alpha': 92.14440595675659}. Best is trial 80 with value: 0.07916406809192203.\n",
      "[I 2025-08-24 00:35:51,694] Trial 94 finished with value: 0.07917381303133794 and parameters: {'alpha': 92.30310314122555}. Best is trial 80 with value: 0.07916406809192203.\n",
      "[I 2025-08-24 00:35:51,698] Trial 92 finished with value: 0.0792482371376668 and parameters: {'alpha': 44.0532219203473}. Best is trial 80 with value: 0.07916406809192203.\n",
      "[I 2025-08-24 00:35:51,765] Trial 96 finished with value: 0.07917406065413773 and parameters: {'alpha': 92.11505467282913}. Best is trial 80 with value: 0.07916406809192203.\n",
      "[I 2025-08-24 00:35:51,768] Trial 95 finished with value: 0.07917330954301482 and parameters: {'alpha': 92.68587930686479}. Best is trial 80 with value: 0.07916406809192203.\n",
      "[I 2025-08-24 00:35:51,785] Trial 99 finished with value: 0.07916711212362298 and parameters: {'alpha': 97.53455563398813}. Best is trial 80 with value: 0.07916406809192203.\n",
      "[I 2025-08-24 00:35:51,786] Trial 97 finished with value: 0.07917350105827889 and parameters: {'alpha': 92.54022775036289}. Best is trial 80 with value: 0.07916406809192203.\n",
      "[I 2025-08-24 00:35:51,791] Trial 98 finished with value: 0.07916687783740578 and parameters: {'alpha': 97.72312572012581}. Best is trial 80 with value: 0.07916406809192203.\n"
     ]
    }
   ],
   "source": [
    "\n",
    "\n",
    "# optimize\n",
    "\n",
    "study.optimize(func=tune_ridge, n_trials=100, n_jobs=-1, show_progress_bar=True)\n",
    "\n"
   ]
  },
  {
   "cell_type": "code",
   "execution_count": 27,
   "id": "c09d1db9",
   "metadata": {},
   "outputs": [
    {
     "data": {
      "text/plain": [
       "{'alpha': 99.99793791618914}"
      ]
     },
     "execution_count": 27,
     "metadata": {},
     "output_type": "execute_result"
    }
   ],
   "source": [
    "# best parameters\n",
    "\n",
    "study.best_params"
   ]
  },
  {
   "cell_type": "code",
   "execution_count": 28,
   "id": "88aacb2a",
   "metadata": {},
   "outputs": [
    {
     "data": {
      "text/plain": [
       "0.07916406809192203"
      ]
     },
     "execution_count": 28,
     "metadata": {},
     "output_type": "execute_result"
    }
   ],
   "source": [
    "# best value\n",
    "\n",
    "study.best_value"
   ]
  },
  {
   "cell_type": "code",
   "execution_count": null,
   "id": "df29ac4e",
   "metadata": {},
   "outputs": [],
   "source": []
  }
 ],
 "metadata": {
  "kernelspec": {
   "display_name": "Python (dl_env)",
   "language": "python",
   "name": "dl_env"
  },
  "language_info": {
   "codemirror_mode": {
    "name": "ipython",
    "version": 3
   },
   "file_extension": ".py",
   "mimetype": "text/x-python",
   "name": "python",
   "nbconvert_exporter": "python",
   "pygments_lexer": "ipython3",
   "version": "3.12.3"
  }
 },
 "nbformat": 4,
 "nbformat_minor": 5
}
