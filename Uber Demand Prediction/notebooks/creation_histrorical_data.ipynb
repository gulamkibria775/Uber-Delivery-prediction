{
 "cells": [
  {
   "cell_type": "code",
   "execution_count": 1,
   "id": "47670fef",
   "metadata": {},
   "outputs": [],
   "source": [
    "import pandas as pd\n",
    "import numpy as np\n",
    "import matplotlib.pyplot as plt\n",
    "import seaborn as sns\n",
    "import dask.dataframe as dd"
   ]
  },
  {
   "cell_type": "code",
   "execution_count": 2,
   "id": "0784d29e",
   "metadata": {},
   "outputs": [],
   "source": [
    "# paths for the three dfs\n",
    "\n",
    "df_jan_path = \"../data/raw/yellow_tripdata_2016-01.csv\"\n",
    "df_feb_path = \"../data/raw/yellow_tripdata_2016-02.csv\"\n",
    "df_mar_path = \"../data/raw/yellow_tripdata_2016-03.csv\"\n",
    "\n",
    "# load the dataframes\n",
    "\n",
    "df_jan = dd.read_csv(df_jan_path, assume_missing=True, usecols= ['trip_distance', 'tpep_pickup_datetime', 'pickup_longitude',\n",
    "       'pickup_latitude','dropoff_longitude', 'dropoff_latitude', 'fare_amount'], parse_dates=[\"tpep_pickup_datetime\"])\n",
    "\n",
    "df_feb = dd.read_csv(df_feb_path, assume_missing=True, usecols= ['trip_distance', 'tpep_pickup_datetime', 'pickup_longitude',\n",
    "       'pickup_latitude','dropoff_longitude', 'dropoff_latitude', 'fare_amount'], parse_dates=[\"tpep_pickup_datetime\"])\n",
    "\n",
    "\n",
    "df_mar = dd.read_csv(df_mar_path, assume_missing=True, usecols= ['trip_distance', 'tpep_pickup_datetime', 'pickup_longitude',\n",
    "       'pickup_latitude','dropoff_longitude', 'dropoff_latitude', 'fare_amount'], parse_dates=[\"tpep_pickup_datetime\"])\n",
    "\n"
   ]
  },
  {
   "cell_type": "code",
   "execution_count": 3,
   "id": "1cb10ed2",
   "metadata": {},
   "outputs": [],
   "source": [
    "# concat the three dataframes as one\n",
    "\n",
    "df_final = dd.concat([df_jan, df_feb, df_mar], axis=0)"
   ]
  },
  {
   "cell_type": "code",
   "execution_count": 4,
   "id": "c2481afb",
   "metadata": {},
   "outputs": [],
   "source": [
    "# set the values of coordinates\n",
    "\n",
    "min_latitude = 40.60\n",
    "max_latitude = 40.85\n",
    "\n",
    "min_longitude = -74.05\n",
    "max_longitude = -73.70\n",
    "\n",
    "min_fare_amount_val = 0.50\n",
    "max_fare_amount_val = 81.0\n",
    "\n",
    "min_trip_distance_val = 0.25\n",
    "max_trip_distance_val = 24.43"
   ]
  },
  {
   "cell_type": "code",
   "execution_count": 5,
   "id": "dbfee5e5",
   "metadata": {},
   "outputs": [],
   "source": [
    "\n",
    "\n",
    "# select data points within the given ranges\n",
    "\n",
    "df_final = df_final.loc[(df_final[\"pickup_latitude\"].between(min_latitude, max_latitude, inclusive=\"both\")) & \n",
    "(df_final[\"pickup_longitude\"].between(min_longitude, max_longitude, inclusive=\"both\")) & \n",
    "(df_final[\"dropoff_latitude\"].between(min_latitude, max_latitude, inclusive=\"both\")) & \n",
    "(df_final[\"dropoff_longitude\"].between(min_longitude, max_longitude, inclusive=\"both\")), :]\n",
    "\n"
   ]
  },
  {
   "cell_type": "code",
   "execution_count": 6,
   "id": "42e43d5a",
   "metadata": {},
   "outputs": [
    {
     "data": {
      "text/html": [
       "<div><strong>Dask DataFrame Structure:</strong></div>\n",
       "<table border=\"1\" class=\"dataframe\">\n",
       "  <thead>\n",
       "    <tr style=\"text-align: right;\">\n",
       "      <th></th>\n",
       "      <th>tpep_pickup_datetime</th>\n",
       "      <th>trip_distance</th>\n",
       "      <th>pickup_longitude</th>\n",
       "      <th>pickup_latitude</th>\n",
       "      <th>dropoff_longitude</th>\n",
       "      <th>dropoff_latitude</th>\n",
       "      <th>fare_amount</th>\n",
       "    </tr>\n",
       "    <tr>\n",
       "      <th>npartitions=82</th>\n",
       "      <th></th>\n",
       "      <th></th>\n",
       "      <th></th>\n",
       "      <th></th>\n",
       "      <th></th>\n",
       "      <th></th>\n",
       "      <th></th>\n",
       "    </tr>\n",
       "  </thead>\n",
       "  <tbody>\n",
       "    <tr>\n",
       "      <th></th>\n",
       "      <td>datetime64[ns]</td>\n",
       "      <td>float64</td>\n",
       "      <td>float64</td>\n",
       "      <td>float64</td>\n",
       "      <td>float64</td>\n",
       "      <td>float64</td>\n",
       "      <td>float64</td>\n",
       "    </tr>\n",
       "    <tr>\n",
       "      <th></th>\n",
       "      <td>...</td>\n",
       "      <td>...</td>\n",
       "      <td>...</td>\n",
       "      <td>...</td>\n",
       "      <td>...</td>\n",
       "      <td>...</td>\n",
       "      <td>...</td>\n",
       "    </tr>\n",
       "    <tr>\n",
       "      <th>...</th>\n",
       "      <td>...</td>\n",
       "      <td>...</td>\n",
       "      <td>...</td>\n",
       "      <td>...</td>\n",
       "      <td>...</td>\n",
       "      <td>...</td>\n",
       "      <td>...</td>\n",
       "    </tr>\n",
       "    <tr>\n",
       "      <th></th>\n",
       "      <td>...</td>\n",
       "      <td>...</td>\n",
       "      <td>...</td>\n",
       "      <td>...</td>\n",
       "      <td>...</td>\n",
       "      <td>...</td>\n",
       "      <td>...</td>\n",
       "    </tr>\n",
       "    <tr>\n",
       "      <th></th>\n",
       "      <td>...</td>\n",
       "      <td>...</td>\n",
       "      <td>...</td>\n",
       "      <td>...</td>\n",
       "      <td>...</td>\n",
       "      <td>...</td>\n",
       "      <td>...</td>\n",
       "    </tr>\n",
       "  </tbody>\n",
       "</table>\n",
       "<div>Dask Name: loc, 20 expressions</div>"
      ],
      "text/plain": [
       "Dask DataFrame Structure:\n",
       "               tpep_pickup_datetime trip_distance pickup_longitude pickup_latitude dropoff_longitude dropoff_latitude fare_amount\n",
       "npartitions=82                                                                                                                   \n",
       "                     datetime64[ns]       float64          float64         float64           float64          float64     float64\n",
       "                                ...           ...              ...             ...               ...              ...         ...\n",
       "...                             ...           ...              ...             ...               ...              ...         ...\n",
       "                                ...           ...              ...             ...               ...              ...         ...\n",
       "                                ...           ...              ...             ...               ...              ...         ...\n",
       "Dask Name: loc, 20 expressions\n",
       "Expr=Loc(frame=(Concat(frames=[ArrowStringConversion(frame=FromMapProjectable(095ff4f)), ArrowStringConversion(frame=FromMapProjectable(51fb515)), ArrowStringConversion(frame=FromMapProjectable(ab5316b))], ))[['tpep_pickup_datetime', 'trip_distance', 'pickup_longitude', 'pickup_latitude', 'dropoff_longitude', 'dropoff_latitude', 'fare_amount']], iindexer=Between(frame=(Concat(frames=[ArrowStringConversion(frame=FromMapProjectable(095ff4f)), ArrowStringConversion(frame=FromMapProjectable(51fb515)), ArrowStringConversion(frame=FromMapProjectable(ab5316b))], ))['pickup_latitude'], left=40.6, right=40.85) & Between(frame=(Concat(frames=[ArrowStringConversion(frame=FromMapProjectable(095ff4f)), ArrowStringConversion(frame=FromMapProjectable(51fb515)), ArrowStringConversion(frame=FromMapProjectable(ab5316b))], ))['pickup_longitude'], left=-74.05, right=-73.7) & Between(frame=(Concat(frames=[ArrowStringConversion(frame=FromMapProjectable(095ff4f)), ArrowStringConversion(frame=FromMapProjectable(51fb515)), ArrowStringConversion(frame=FromMapProjectable(ab5316b))], ))['dropoff_latitude'], left=40.6, right=40.85) & Between(frame=(Concat(frames=[ArrowStringConversion(frame=FromMapProjectable(095ff4f)), ArrowStringConversion(frame=FromMapProjectable(51fb515)), ArrowStringConversion(frame=FromMapProjectable(ab5316b))], ))['dropoff_longitude'], left=-74.05, right=-73.7))"
      ]
     },
     "execution_count": 6,
     "metadata": {},
     "output_type": "execute_result"
    }
   ],
   "source": [
    "df_final"
   ]
  },
  {
   "cell_type": "code",
   "execution_count": 7,
   "id": "c55cb7ed",
   "metadata": {},
   "outputs": [],
   "source": [
    "# select data points within the given ranges\n",
    "\n",
    "df_final = df_final.loc[(df_final[\"fare_amount\"].between(min_fare_amount_val,max_fare_amount_val,inclusive=\"both\")) & \n",
    "(df_final[\"trip_distance\"].between(min_trip_distance_val,max_trip_distance_val,inclusive=\"both\"))]\n"
   ]
  },
  {
   "cell_type": "code",
   "execution_count": 8,
   "id": "9e8f0c64",
   "metadata": {},
   "outputs": [],
   "source": [
    "# drop columns from the data\n",
    "\n",
    "df_final = df_final.drop(columns=['trip_distance', 'dropoff_longitude', 'dropoff_latitude', 'fare_amount'])\n"
   ]
  },
  {
   "cell_type": "code",
   "execution_count": 9,
   "id": "2ad19bb0",
   "metadata": {},
   "outputs": [],
   "source": [
    "df_final=df_final.compute()"
   ]
  },
  {
   "cell_type": "code",
   "execution_count": 10,
   "id": "d2b97b7e",
   "metadata": {},
   "outputs": [],
   "source": [
    "# save the dataframe\n",
    "\n",
    "save_path = \"../data/interim/processing_data.csv\"\n",
    "\n",
    "df_final.to_csv(save_path, index=False)"
   ]
  },
  {
   "cell_type": "code",
   "execution_count": 11,
   "id": "472d1996",
   "metadata": {},
   "outputs": [],
   "source": [
    "from sklearn.cluster import MiniBatchKMeans\n",
    "from sklearn.preprocessing import StandardScaler"
   ]
  },
  {
   "cell_type": "code",
   "execution_count": null,
   "id": "77f9a746",
   "metadata": {},
   "outputs": [],
   "source": [
    "\n",
    "data_path = \"../data/interim/processing_data.csv\""
   ]
  },
  {
   "cell_type": "code",
   "execution_count": 13,
   "id": "854e16a6",
   "metadata": {},
   "outputs": [],
   "source": [
    "df_reader = pd.read_csv(data_path, chunksize=100000, usecols=[\"pickup_latitude\",\"pickup_longitude\"])\n"
   ]
  },
  {
   "cell_type": "code",
   "execution_count": 14,
   "id": "da0c7e20",
   "metadata": {},
   "outputs": [],
   "source": [
    "\n",
    "\n",
    "# train the standard scaler\n",
    "\n",
    "scaler = StandardScaler()\n",
    "\n",
    "for chunk in df_reader:\n",
    "    # fit the scaler\n",
    "    scaler.partial_fit(chunk)\n",
    "\n"
   ]
  },
  {
   "cell_type": "code",
   "execution_count": 15,
   "id": "5508c66c",
   "metadata": {},
   "outputs": [],
   "source": [
    "df_reader = pd.read_csv(data_path, chunksize=100000, usecols=[\"pickup_latitude\",\"pickup_longitude\"])\n"
   ]
  },
  {
   "cell_type": "code",
   "execution_count": 16,
   "id": "13d08f45",
   "metadata": {},
   "outputs": [],
   "source": [
    "\n",
    "\n",
    "# train the model\n",
    "\n",
    "mini_batch = MiniBatchKMeans(n_clusters=30, n_init=10, random_state=42)\n",
    "\n",
    "for chunk in df_reader:\n",
    "    # scale the chunk\n",
    "    scaled_chunk = scaler.transform(chunk)\n",
    "    # train the model\n",
    "    mini_batch.partial_fit(scaled_chunk)\n",
    "\n"
   ]
  },
  {
   "cell_type": "code",
   "execution_count": 17,
   "id": "55d29db1",
   "metadata": {},
   "outputs": [
    {
     "data": {
      "text/plain": [
       "array([[ 0.6614905 ,  1.94149572],\n",
       "       [-0.07596928, -0.13980742],\n",
       "       [ 1.44528196, -1.99721801],\n",
       "       [ 5.15118517, -3.83635934],\n",
       "       [-0.81227839, -1.16343866],\n",
       "       [-0.13488625,  0.42137614],\n",
       "       [ 2.8610836 ,  0.72209007],\n",
       "       [-0.39015448, -0.52924948],\n",
       "       [ 0.56520318,  1.07003845],\n",
       "       [-0.3303071 , -2.24451716],\n",
       "       [-0.4036074 , -1.00166487],\n",
       "       [-0.10175947,  1.16185672],\n",
       "       [-0.55920139, -0.08902033],\n",
       "       [ 1.59046972,  0.31820801],\n",
       "       [-0.25372558, -0.04552948],\n",
       "       [-0.35389222,  0.20846098],\n",
       "       [ 0.52314378, -1.31780812],\n",
       "       [ 0.81932304,  2.79102906],\n",
       "       [ 0.12935608,  0.28712745],\n",
       "       [-0.27639436,  0.73099844],\n",
       "       [-1.0082658 , -1.53772972],\n",
       "       [ 0.39844824,  0.67692302],\n",
       "       [-0.74701446, -0.76412025],\n",
       "       [ 0.1378545 ,  1.62394033],\n",
       "       [-0.43385234, -3.07963657],\n",
       "       [-0.54018812,  0.3506753 ],\n",
       "       [-0.17842182, -0.57100818],\n",
       "       [-0.76072368, -0.38830582],\n",
       "       [ 0.4240573 , -2.66479788],\n",
       "       [ 1.03071807, -0.12982563]])"
      ]
     },
     "execution_count": 17,
     "metadata": {},
     "output_type": "execute_result"
    }
   ],
   "source": [
    "# centroids of the model\n",
    "\n",
    "mini_batch.cluster_centers_"
   ]
  },
  {
   "cell_type": "code",
   "execution_count": 18,
   "id": "8b653d6e",
   "metadata": {},
   "outputs": [
    {
     "data": {
      "text/plain": [
       "array([[-73.94975046,  40.80392392],\n",
       "       [-73.97685385,  40.74726528],\n",
       "       [-73.92094427,  40.69670159],\n",
       "       [-73.78474354,  40.64663525],\n",
       "       [-74.00391496,  40.7193993 ],\n",
       "       [-73.97901919,  40.7625422 ],\n",
       "       [-73.8689102 ,  40.77072843],\n",
       "       [-73.9884009 ,  40.73666362],\n",
       "       [-73.95328925,  40.78020052],\n",
       "       [-73.98620137,  40.68996945],\n",
       "       [-73.98889533,  40.72380321],\n",
       "       [-73.9778017 ,  40.78270006],\n",
       "       [-73.99461378,  40.74864784],\n",
       "       [-73.91560827,  40.75973368],\n",
       "       [-73.98338682,  40.74983178],\n",
       "       [-73.98706818,  40.75674608],\n",
       "       [-73.95483503,  40.71519695],\n",
       "       [-73.94394974,  40.82705049],\n",
       "       [-73.96930766,  40.75888759],\n",
       "       [-73.98421995,  40.77097094],\n",
       "       [-74.01111796,  40.70921009],\n",
       "       [-73.95941789,  40.76949887],\n",
       "       [-74.00151635,  40.73026981],\n",
       "       [-73.96899532,  40.79527921],\n",
       "       [-73.9900069 ,  40.66723527],\n",
       "       [-73.993915  ,  40.76061753],\n",
       "       [-73.98061923,  40.73552684],\n",
       "       [-74.0020202 ,  40.74050049],\n",
       "       [-73.95847669,  40.67852828],\n",
       "       [-73.93618047,  40.74753701]])"
      ]
     },
     "execution_count": 18,
     "metadata": {},
     "output_type": "execute_result"
    }
   ],
   "source": [
    "\n",
    "\n",
    "scaler.inverse_transform(mini_batch.cluster_centers_)\n",
    "\n"
   ]
  },
  {
   "cell_type": "code",
   "execution_count": 19,
   "id": "074aab2b",
   "metadata": {},
   "outputs": [
    {
     "data": {
      "text/html": [
       "<div>\n",
       "<style scoped>\n",
       "    .dataframe tbody tr th:only-of-type {\n",
       "        vertical-align: middle;\n",
       "    }\n",
       "\n",
       "    .dataframe tbody tr th {\n",
       "        vertical-align: top;\n",
       "    }\n",
       "\n",
       "    .dataframe thead th {\n",
       "        text-align: right;\n",
       "    }\n",
       "</style>\n",
       "<table border=\"1\" class=\"dataframe\">\n",
       "  <thead>\n",
       "    <tr style=\"text-align: right;\">\n",
       "      <th></th>\n",
       "      <th>pickup_longitude</th>\n",
       "      <th>pickup_latitude</th>\n",
       "    </tr>\n",
       "  </thead>\n",
       "  <tbody>\n",
       "    <tr>\n",
       "      <th>0</th>\n",
       "      <td>-73.990372</td>\n",
       "      <td>40.734695</td>\n",
       "    </tr>\n",
       "    <tr>\n",
       "      <th>1</th>\n",
       "      <td>-73.980782</td>\n",
       "      <td>40.729912</td>\n",
       "    </tr>\n",
       "    <tr>\n",
       "      <th>2</th>\n",
       "      <td>-73.984550</td>\n",
       "      <td>40.679565</td>\n",
       "    </tr>\n",
       "    <tr>\n",
       "      <th>3</th>\n",
       "      <td>-73.993469</td>\n",
       "      <td>40.718990</td>\n",
       "    </tr>\n",
       "    <tr>\n",
       "      <th>4</th>\n",
       "      <td>-73.960625</td>\n",
       "      <td>40.781330</td>\n",
       "    </tr>\n",
       "    <tr>\n",
       "      <th>...</th>\n",
       "      <td>...</td>\n",
       "      <td>...</td>\n",
       "    </tr>\n",
       "    <tr>\n",
       "      <th>420269</th>\n",
       "      <td>-73.790565</td>\n",
       "      <td>40.644451</td>\n",
       "    </tr>\n",
       "    <tr>\n",
       "      <th>420270</th>\n",
       "      <td>-73.788055</td>\n",
       "      <td>40.641483</td>\n",
       "    </tr>\n",
       "    <tr>\n",
       "      <th>420271</th>\n",
       "      <td>-73.789154</td>\n",
       "      <td>40.646736</td>\n",
       "    </tr>\n",
       "    <tr>\n",
       "      <th>420273</th>\n",
       "      <td>-73.977356</td>\n",
       "      <td>40.774471</td>\n",
       "    </tr>\n",
       "    <tr>\n",
       "      <th>420276</th>\n",
       "      <td>-73.798485</td>\n",
       "      <td>40.645096</td>\n",
       "    </tr>\n",
       "  </tbody>\n",
       "</table>\n",
       "<p>33234199 rows × 2 columns</p>\n",
       "</div>"
      ],
      "text/plain": [
       "        pickup_longitude  pickup_latitude\n",
       "0             -73.990372        40.734695\n",
       "1             -73.980782        40.729912\n",
       "2             -73.984550        40.679565\n",
       "3             -73.993469        40.718990\n",
       "4             -73.960625        40.781330\n",
       "...                  ...              ...\n",
       "420269        -73.790565        40.644451\n",
       "420270        -73.788055        40.641483\n",
       "420271        -73.789154        40.646736\n",
       "420273        -73.977356        40.774471\n",
       "420276        -73.798485        40.645096\n",
       "\n",
       "[33234199 rows x 2 columns]"
      ]
     },
     "execution_count": 19,
     "metadata": {},
     "output_type": "execute_result"
    }
   ],
   "source": [
    "\n",
    "\n",
    "# perform predictions and assign clusters\n",
    "\n",
    "location_subset = df_final[df_final.columns[1:]]\n",
    "\n",
    "location_subset\n",
    "\n"
   ]
  },
  {
   "cell_type": "code",
   "execution_count": 20,
   "id": "79dc07b4",
   "metadata": {},
   "outputs": [
    {
     "data": {
      "text/plain": [
       "Index(['tpep_pickup_datetime', 'pickup_longitude', 'pickup_latitude'], dtype='object')"
      ]
     },
     "execution_count": 20,
     "metadata": {},
     "output_type": "execute_result"
    }
   ],
   "source": [
    "df_final.columns"
   ]
  },
  {
   "cell_type": "code",
   "execution_count": 21,
   "id": "e72e93c4",
   "metadata": {},
   "outputs": [
    {
     "data": {
      "text/plain": [
       "array([[-0.44377822, -0.60154915],\n",
       "       [-0.18283861, -0.77727142],\n",
       "       [-0.28538767, -2.62669931],\n",
       "       ...,\n",
       "       [ 5.03117896, -3.83265296],\n",
       "       [-0.08963107,  0.85958016],\n",
       "       [ 4.77729738, -3.89290861]], shape=(33234199, 2))"
      ]
     },
     "execution_count": 21,
     "metadata": {},
     "output_type": "execute_result"
    }
   ],
   "source": [
    "# scale the input data\n",
    "\n",
    "scaled_location_subset = scaler.transform(location_subset)\n",
    "\n",
    "scaled_location_subset"
   ]
  },
  {
   "cell_type": "code",
   "execution_count": 22,
   "id": "0c1dcbbc",
   "metadata": {},
   "outputs": [
    {
     "data": {
      "text/plain": [
       "(33234199,)"
      ]
     },
     "execution_count": 22,
     "metadata": {},
     "output_type": "execute_result"
    }
   ],
   "source": [
    "\n",
    "\n",
    "# get the cluster predictions\n",
    "\n",
    "cluster_predictions = mini_batch.predict(scaled_location_subset)\n",
    "\n",
    "cluster_predictions.shape\n",
    "\n"
   ]
  },
  {
   "cell_type": "code",
   "execution_count": 23,
   "id": "caef0e20",
   "metadata": {},
   "outputs": [
    {
     "data": {
      "text/html": [
       "<div>\n",
       "<style scoped>\n",
       "    .dataframe tbody tr th:only-of-type {\n",
       "        vertical-align: middle;\n",
       "    }\n",
       "\n",
       "    .dataframe tbody tr th {\n",
       "        vertical-align: top;\n",
       "    }\n",
       "\n",
       "    .dataframe thead th {\n",
       "        text-align: right;\n",
       "    }\n",
       "</style>\n",
       "<table border=\"1\" class=\"dataframe\">\n",
       "  <thead>\n",
       "    <tr style=\"text-align: right;\">\n",
       "      <th></th>\n",
       "      <th>tpep_pickup_datetime</th>\n",
       "      <th>pickup_longitude</th>\n",
       "      <th>pickup_latitude</th>\n",
       "      <th>region</th>\n",
       "    </tr>\n",
       "  </thead>\n",
       "  <tbody>\n",
       "    <tr>\n",
       "      <th>0</th>\n",
       "      <td>2016-01-01 00:00:00</td>\n",
       "      <td>-73.990372</td>\n",
       "      <td>40.734695</td>\n",
       "      <td>7</td>\n",
       "    </tr>\n",
       "    <tr>\n",
       "      <th>1</th>\n",
       "      <td>2016-01-01 00:00:00</td>\n",
       "      <td>-73.980782</td>\n",
       "      <td>40.729912</td>\n",
       "      <td>26</td>\n",
       "    </tr>\n",
       "    <tr>\n",
       "      <th>2</th>\n",
       "      <td>2016-01-01 00:00:00</td>\n",
       "      <td>-73.984550</td>\n",
       "      <td>40.679565</td>\n",
       "      <td>9</td>\n",
       "    </tr>\n",
       "    <tr>\n",
       "      <th>3</th>\n",
       "      <td>2016-01-01 00:00:00</td>\n",
       "      <td>-73.993469</td>\n",
       "      <td>40.718990</td>\n",
       "      <td>10</td>\n",
       "    </tr>\n",
       "    <tr>\n",
       "      <th>4</th>\n",
       "      <td>2016-01-01 00:00:00</td>\n",
       "      <td>-73.960625</td>\n",
       "      <td>40.781330</td>\n",
       "      <td>8</td>\n",
       "    </tr>\n",
       "    <tr>\n",
       "      <th>...</th>\n",
       "      <td>...</td>\n",
       "      <td>...</td>\n",
       "      <td>...</td>\n",
       "      <td>...</td>\n",
       "    </tr>\n",
       "    <tr>\n",
       "      <th>420269</th>\n",
       "      <td>2016-03-31 21:43:11</td>\n",
       "      <td>-73.790565</td>\n",
       "      <td>40.644451</td>\n",
       "      <td>3</td>\n",
       "    </tr>\n",
       "    <tr>\n",
       "      <th>420270</th>\n",
       "      <td>2016-03-20 08:45:16</td>\n",
       "      <td>-73.788055</td>\n",
       "      <td>40.641483</td>\n",
       "      <td>3</td>\n",
       "    </tr>\n",
       "    <tr>\n",
       "      <th>420271</th>\n",
       "      <td>2016-03-20 08:59:21</td>\n",
       "      <td>-73.789154</td>\n",
       "      <td>40.646736</td>\n",
       "      <td>3</td>\n",
       "    </tr>\n",
       "    <tr>\n",
       "      <th>420273</th>\n",
       "      <td>2016-03-26 03:02:32</td>\n",
       "      <td>-73.977356</td>\n",
       "      <td>40.774471</td>\n",
       "      <td>19</td>\n",
       "    </tr>\n",
       "    <tr>\n",
       "      <th>420276</th>\n",
       "      <td>2016-03-20 08:50:24</td>\n",
       "      <td>-73.798485</td>\n",
       "      <td>40.645096</td>\n",
       "      <td>3</td>\n",
       "    </tr>\n",
       "  </tbody>\n",
       "</table>\n",
       "<p>33234199 rows × 4 columns</p>\n",
       "</div>"
      ],
      "text/plain": [
       "       tpep_pickup_datetime  pickup_longitude  pickup_latitude  region\n",
       "0       2016-01-01 00:00:00        -73.990372        40.734695       7\n",
       "1       2016-01-01 00:00:00        -73.980782        40.729912      26\n",
       "2       2016-01-01 00:00:00        -73.984550        40.679565       9\n",
       "3       2016-01-01 00:00:00        -73.993469        40.718990      10\n",
       "4       2016-01-01 00:00:00        -73.960625        40.781330       8\n",
       "...                     ...               ...              ...     ...\n",
       "420269  2016-03-31 21:43:11        -73.790565        40.644451       3\n",
       "420270  2016-03-20 08:45:16        -73.788055        40.641483       3\n",
       "420271  2016-03-20 08:59:21        -73.789154        40.646736       3\n",
       "420273  2016-03-26 03:02:32        -73.977356        40.774471      19\n",
       "420276  2016-03-20 08:50:24        -73.798485        40.645096       3\n",
       "\n",
       "[33234199 rows x 4 columns]"
      ]
     },
     "execution_count": 23,
     "metadata": {},
     "output_type": "execute_result"
    }
   ],
   "source": [
    "\n",
    "\n",
    "# save the cluster predictions in data\n",
    "\n",
    "df_final['region'] = cluster_predictions\n",
    "\n",
    "df_final\n"
   ]
  },
  {
   "cell_type": "code",
   "execution_count": 24,
   "id": "24526633",
   "metadata": {},
   "outputs": [
    {
     "data": {
      "text/html": [
       "<div>\n",
       "<style scoped>\n",
       "    .dataframe tbody tr th:only-of-type {\n",
       "        vertical-align: middle;\n",
       "    }\n",
       "\n",
       "    .dataframe tbody tr th {\n",
       "        vertical-align: top;\n",
       "    }\n",
       "\n",
       "    .dataframe thead th {\n",
       "        text-align: right;\n",
       "    }\n",
       "</style>\n",
       "<table border=\"1\" class=\"dataframe\">\n",
       "  <thead>\n",
       "    <tr style=\"text-align: right;\">\n",
       "      <th></th>\n",
       "      <th>tpep_pickup_datetime</th>\n",
       "      <th>region</th>\n",
       "    </tr>\n",
       "  </thead>\n",
       "  <tbody>\n",
       "    <tr>\n",
       "      <th>0</th>\n",
       "      <td>2016-01-01 00:00:00</td>\n",
       "      <td>7</td>\n",
       "    </tr>\n",
       "    <tr>\n",
       "      <th>1</th>\n",
       "      <td>2016-01-01 00:00:00</td>\n",
       "      <td>26</td>\n",
       "    </tr>\n",
       "    <tr>\n",
       "      <th>2</th>\n",
       "      <td>2016-01-01 00:00:00</td>\n",
       "      <td>9</td>\n",
       "    </tr>\n",
       "    <tr>\n",
       "      <th>3</th>\n",
       "      <td>2016-01-01 00:00:00</td>\n",
       "      <td>10</td>\n",
       "    </tr>\n",
       "    <tr>\n",
       "      <th>4</th>\n",
       "      <td>2016-01-01 00:00:00</td>\n",
       "      <td>8</td>\n",
       "    </tr>\n",
       "    <tr>\n",
       "      <th>...</th>\n",
       "      <td>...</td>\n",
       "      <td>...</td>\n",
       "    </tr>\n",
       "    <tr>\n",
       "      <th>420269</th>\n",
       "      <td>2016-03-31 21:43:11</td>\n",
       "      <td>3</td>\n",
       "    </tr>\n",
       "    <tr>\n",
       "      <th>420270</th>\n",
       "      <td>2016-03-20 08:45:16</td>\n",
       "      <td>3</td>\n",
       "    </tr>\n",
       "    <tr>\n",
       "      <th>420271</th>\n",
       "      <td>2016-03-20 08:59:21</td>\n",
       "      <td>3</td>\n",
       "    </tr>\n",
       "    <tr>\n",
       "      <th>420273</th>\n",
       "      <td>2016-03-26 03:02:32</td>\n",
       "      <td>19</td>\n",
       "    </tr>\n",
       "    <tr>\n",
       "      <th>420276</th>\n",
       "      <td>2016-03-20 08:50:24</td>\n",
       "      <td>3</td>\n",
       "    </tr>\n",
       "  </tbody>\n",
       "</table>\n",
       "<p>33234199 rows × 2 columns</p>\n",
       "</div>"
      ],
      "text/plain": [
       "       tpep_pickup_datetime  region\n",
       "0       2016-01-01 00:00:00       7\n",
       "1       2016-01-01 00:00:00      26\n",
       "2       2016-01-01 00:00:00       9\n",
       "3       2016-01-01 00:00:00      10\n",
       "4       2016-01-01 00:00:00       8\n",
       "...                     ...     ...\n",
       "420269  2016-03-31 21:43:11       3\n",
       "420270  2016-03-20 08:45:16       3\n",
       "420271  2016-03-20 08:59:21       3\n",
       "420273  2016-03-26 03:02:32      19\n",
       "420276  2016-03-20 08:50:24       3\n",
       "\n",
       "[33234199 rows x 2 columns]"
      ]
     },
     "execution_count": 24,
     "metadata": {},
     "output_type": "execute_result"
    }
   ],
   "source": [
    "# drop the latitude and logitude columns from data\n",
    "\n",
    "time_series_data = df_final.drop(columns=[\"pickup_latitude\",\"pickup_longitude\"])\n",
    "\n",
    "time_series_data"
   ]
  },
  {
   "cell_type": "code",
   "execution_count": 25,
   "id": "0470b30e",
   "metadata": {},
   "outputs": [],
   "source": [
    "# save the time series data\n",
    "\n",
    "save_path = \"../data/interim/time_series.csv\"\n",
    "\n",
    "time_series_data.to_csv(save_path, index=False)"
   ]
  },
  {
   "cell_type": "code",
   "execution_count": 26,
   "id": "73702995",
   "metadata": {},
   "outputs": [
    {
     "data": {
      "text/html": [
       "<div>\n",
       "<style scoped>\n",
       "    .dataframe tbody tr th:only-of-type {\n",
       "        vertical-align: middle;\n",
       "    }\n",
       "\n",
       "    .dataframe tbody tr th {\n",
       "        vertical-align: top;\n",
       "    }\n",
       "\n",
       "    .dataframe thead th {\n",
       "        text-align: right;\n",
       "    }\n",
       "</style>\n",
       "<table border=\"1\" class=\"dataframe\">\n",
       "  <thead>\n",
       "    <tr style=\"text-align: right;\">\n",
       "      <th></th>\n",
       "      <th>region</th>\n",
       "    </tr>\n",
       "    <tr>\n",
       "      <th>tpep_pickup_datetime</th>\n",
       "      <th></th>\n",
       "    </tr>\n",
       "  </thead>\n",
       "  <tbody>\n",
       "    <tr>\n",
       "      <th>2016-01-01 00:00:00</th>\n",
       "      <td>7</td>\n",
       "    </tr>\n",
       "    <tr>\n",
       "      <th>2016-01-01 00:00:00</th>\n",
       "      <td>26</td>\n",
       "    </tr>\n",
       "    <tr>\n",
       "      <th>2016-01-01 00:00:00</th>\n",
       "      <td>9</td>\n",
       "    </tr>\n",
       "    <tr>\n",
       "      <th>2016-01-01 00:00:00</th>\n",
       "      <td>10</td>\n",
       "    </tr>\n",
       "    <tr>\n",
       "      <th>2016-01-01 00:00:00</th>\n",
       "      <td>8</td>\n",
       "    </tr>\n",
       "    <tr>\n",
       "      <th>...</th>\n",
       "      <td>...</td>\n",
       "    </tr>\n",
       "    <tr>\n",
       "      <th>2016-03-31 21:43:11</th>\n",
       "      <td>3</td>\n",
       "    </tr>\n",
       "    <tr>\n",
       "      <th>2016-03-20 08:45:16</th>\n",
       "      <td>3</td>\n",
       "    </tr>\n",
       "    <tr>\n",
       "      <th>2016-03-20 08:59:21</th>\n",
       "      <td>3</td>\n",
       "    </tr>\n",
       "    <tr>\n",
       "      <th>2016-03-26 03:02:32</th>\n",
       "      <td>19</td>\n",
       "    </tr>\n",
       "    <tr>\n",
       "      <th>2016-03-20 08:50:24</th>\n",
       "      <td>3</td>\n",
       "    </tr>\n",
       "  </tbody>\n",
       "</table>\n",
       "<p>33234199 rows × 1 columns</p>\n",
       "</div>"
      ],
      "text/plain": [
       "                      region\n",
       "tpep_pickup_datetime        \n",
       "2016-01-01 00:00:00        7\n",
       "2016-01-01 00:00:00       26\n",
       "2016-01-01 00:00:00        9\n",
       "2016-01-01 00:00:00       10\n",
       "2016-01-01 00:00:00        8\n",
       "...                      ...\n",
       "2016-03-31 21:43:11        3\n",
       "2016-03-20 08:45:16        3\n",
       "2016-03-20 08:59:21        3\n",
       "2016-03-26 03:02:32       19\n",
       "2016-03-20 08:50:24        3\n",
       "\n",
       "[33234199 rows x 1 columns]"
      ]
     },
     "execution_count": 26,
     "metadata": {},
     "output_type": "execute_result"
    }
   ],
   "source": [
    "# set the time series as the index\n",
    "\n",
    "time_series_data.set_index('tpep_pickup_datetime', inplace=True)\n",
    "\n",
    "time_series_data"
   ]
  },
  {
   "cell_type": "code",
   "execution_count": 30,
   "id": "c4ff8da8",
   "metadata": {},
   "outputs": [
    {
     "data": {
      "text/plain": [
       "<pandas.core.groupby.generic.DataFrameGroupBy object at 0x78ed64867860>"
      ]
     },
     "execution_count": 30,
     "metadata": {},
     "output_type": "execute_result"
    }
   ],
   "source": [
    "\n",
    "\n",
    "# group the time series data based on regions\n",
    "\n",
    "region_grp = time_series_data.groupby(\"region\")\n",
    "\n",
    "region_grp\n",
    "\n"
   ]
  },
  {
   "cell_type": "code",
   "execution_count": 31,
   "id": "67deefb6",
   "metadata": {},
   "outputs": [
    {
     "data": {
      "text/plain": [
       "region  tpep_pickup_datetime\n",
       "0       2016-01-01 00:00:00      58\n",
       "        2016-01-01 00:15:00     120\n",
       "        2016-01-01 00:30:00     149\n",
       "        2016-01-01 00:45:00     160\n",
       "        2016-01-01 01:00:00     187\n",
       "                               ... \n",
       "29      2016-03-31 22:45:00      14\n",
       "        2016-03-31 23:00:00      17\n",
       "        2016-03-31 23:15:00      18\n",
       "        2016-03-31 23:30:00      13\n",
       "        2016-03-31 23:45:00      14\n",
       "Name: region, Length: 262080, dtype: int64"
      ]
     },
     "execution_count": 31,
     "metadata": {},
     "output_type": "execute_result"
    }
   ],
   "source": [
    "resampled_data = (\n",
    "    region_grp['region']\n",
    "    .resample(\"15min\")\n",
    "    .count()\n",
    ")\n",
    "\n",
    "resampled_data"
   ]
  },
  {
   "cell_type": "code",
   "execution_count": 32,
   "id": "a3c4d5d1",
   "metadata": {},
   "outputs": [],
   "source": [
    "\n",
    "\n",
    "resampled_data.name = \"total_pickups\"\n",
    "\n"
   ]
  },
  {
   "cell_type": "code",
   "execution_count": 33,
   "id": "a46fd3b9",
   "metadata": {},
   "outputs": [
    {
     "data": {
      "text/html": [
       "<div>\n",
       "<style scoped>\n",
       "    .dataframe tbody tr th:only-of-type {\n",
       "        vertical-align: middle;\n",
       "    }\n",
       "\n",
       "    .dataframe tbody tr th {\n",
       "        vertical-align: top;\n",
       "    }\n",
       "\n",
       "    .dataframe thead th {\n",
       "        text-align: right;\n",
       "    }\n",
       "</style>\n",
       "<table border=\"1\" class=\"dataframe\">\n",
       "  <thead>\n",
       "    <tr style=\"text-align: right;\">\n",
       "      <th></th>\n",
       "      <th>region</th>\n",
       "      <th>total_pickups</th>\n",
       "    </tr>\n",
       "    <tr>\n",
       "      <th>tpep_pickup_datetime</th>\n",
       "      <th></th>\n",
       "      <th></th>\n",
       "    </tr>\n",
       "  </thead>\n",
       "  <tbody>\n",
       "    <tr>\n",
       "      <th>2016-01-01 00:00:00</th>\n",
       "      <td>0</td>\n",
       "      <td>58</td>\n",
       "    </tr>\n",
       "    <tr>\n",
       "      <th>2016-01-01 00:15:00</th>\n",
       "      <td>0</td>\n",
       "      <td>120</td>\n",
       "    </tr>\n",
       "    <tr>\n",
       "      <th>2016-01-01 00:30:00</th>\n",
       "      <td>0</td>\n",
       "      <td>149</td>\n",
       "    </tr>\n",
       "    <tr>\n",
       "      <th>2016-01-01 00:45:00</th>\n",
       "      <td>0</td>\n",
       "      <td>160</td>\n",
       "    </tr>\n",
       "    <tr>\n",
       "      <th>2016-01-01 01:00:00</th>\n",
       "      <td>0</td>\n",
       "      <td>187</td>\n",
       "    </tr>\n",
       "    <tr>\n",
       "      <th>...</th>\n",
       "      <td>...</td>\n",
       "      <td>...</td>\n",
       "    </tr>\n",
       "    <tr>\n",
       "      <th>2016-03-31 22:45:00</th>\n",
       "      <td>29</td>\n",
       "      <td>14</td>\n",
       "    </tr>\n",
       "    <tr>\n",
       "      <th>2016-03-31 23:00:00</th>\n",
       "      <td>29</td>\n",
       "      <td>17</td>\n",
       "    </tr>\n",
       "    <tr>\n",
       "      <th>2016-03-31 23:15:00</th>\n",
       "      <td>29</td>\n",
       "      <td>18</td>\n",
       "    </tr>\n",
       "    <tr>\n",
       "      <th>2016-03-31 23:30:00</th>\n",
       "      <td>29</td>\n",
       "      <td>13</td>\n",
       "    </tr>\n",
       "    <tr>\n",
       "      <th>2016-03-31 23:45:00</th>\n",
       "      <td>29</td>\n",
       "      <td>14</td>\n",
       "    </tr>\n",
       "  </tbody>\n",
       "</table>\n",
       "<p>262080 rows × 2 columns</p>\n",
       "</div>"
      ],
      "text/plain": [
       "                      region  total_pickups\n",
       "tpep_pickup_datetime                       \n",
       "2016-01-01 00:00:00        0             58\n",
       "2016-01-01 00:15:00        0            120\n",
       "2016-01-01 00:30:00        0            149\n",
       "2016-01-01 00:45:00        0            160\n",
       "2016-01-01 01:00:00        0            187\n",
       "...                      ...            ...\n",
       "2016-03-31 22:45:00       29             14\n",
       "2016-03-31 23:00:00       29             17\n",
       "2016-03-31 23:15:00       29             18\n",
       "2016-03-31 23:30:00       29             13\n",
       "2016-03-31 23:45:00       29             14\n",
       "\n",
       "[262080 rows x 2 columns]"
      ]
     },
     "execution_count": 33,
     "metadata": {},
     "output_type": "execute_result"
    }
   ],
   "source": [
    "resampled_data = resampled_data.reset_index(level=0)\n",
    "\n",
    "resampled_data"
   ]
  },
  {
   "cell_type": "code",
   "execution_count": 34,
   "id": "0b954f83",
   "metadata": {},
   "outputs": [
    {
     "data": {
      "text/plain": [
       "np.int64(3668)"
      ]
     },
     "execution_count": 34,
     "metadata": {},
     "output_type": "execute_result"
    }
   ],
   "source": [
    "\n",
    "(resampled_data['total_pickups'] == 0).sum()"
   ]
  },
  {
   "cell_type": "code",
   "execution_count": 35,
   "id": "468ac65b",
   "metadata": {},
   "outputs": [],
   "source": [
    "\n",
    "\n",
    "epsilon_val = 10\n",
    "\n",
    "resampled_data.replace({'total_pickups': {0 : epsilon_val}}, inplace=True)\n",
    "\n"
   ]
  },
  {
   "cell_type": "code",
   "execution_count": 36,
   "id": "fd3a48c0",
   "metadata": {},
   "outputs": [
    {
     "data": {
      "text/plain": [
       "np.int64(0)"
      ]
     },
     "execution_count": 36,
     "metadata": {},
     "output_type": "execute_result"
    }
   ],
   "source": [
    "(resampled_data['total_pickups'] == 0).sum()"
   ]
  },
  {
   "cell_type": "code",
   "execution_count": null,
   "id": "e735c2eb",
   "metadata": {},
   "outputs": [],
   "source": []
  },
  {
   "cell_type": "markdown",
   "id": "48af0edd",
   "metadata": {},
   "source": [
    "# Smoothing"
   ]
  },
  {
   "cell_type": "markdown",
   "id": "4145e199",
   "metadata": {},
   "source": [
    "# "
   ]
  },
  {
   "cell_type": "code",
   "execution_count": 37,
   "id": "ed6afc6d",
   "metadata": {},
   "outputs": [],
   "source": [
    "from sklearn.metrics import mean_absolute_percentage_error"
   ]
  },
  {
   "cell_type": "code",
   "execution_count": 38,
   "id": "a3ef874a",
   "metadata": {},
   "outputs": [
    {
     "data": {
      "text/plain": [
       "[3, 4, 5, 6, 7, 8, 9, 10]"
      ]
     },
     "execution_count": 38,
     "metadata": {},
     "output_type": "execute_result"
    }
   ],
   "source": [
    "window_values = list(range(3,11,1))\n",
    "window_values"
   ]
  },
  {
   "cell_type": "code",
   "execution_count": 39,
   "id": "722fc470",
   "metadata": {},
   "outputs": [],
   "source": [
    "def calculate_best_window_value(windows):\n",
    "    for window in windows:\n",
    "        ind = window - 1\n",
    "        y_pred = resampled_data['total_pickups'].rolling(window=window).mean().values[ind:]\n",
    "        y = resampled_data['total_pickups'].values[ind:]\n",
    "        error = mean_absolute_percentage_error(y, y_pred)\n",
    "        print(f\"For window value {window}, the MAPE is {error:.2f}\")"
   ]
  },
  {
   "cell_type": "code",
   "execution_count": null,
   "id": "90b31377",
   "metadata": {},
   "outputs": [
    {
     "name": "stdout",
     "output_type": "stream",
     "text": [
      "For window value 3, the MAPE is 0.20\n",
      "For window value 4, the MAPE is 0.24\n",
      "For window value 5, the MAPE is 0.28\n",
      "For window value 6, the MAPE is 0.31\n",
      "For window value 7, the MAPE is 0.35\n",
      "For window value 8, the MAPE is 0.39\n",
      "For window value 9, the MAPE is 0.42\n",
      "For window value 10, the MAPE is 0.46\n"
     ]
    }
   ],
   "source": [
    "\n",
    "calculate_best_window_value(window_values)\n"
   ]
  },
  {
   "cell_type": "markdown",
   "id": "0b1a0601",
   "metadata": {},
   "source": [
    "# EWMA"
   ]
  },
  {
   "cell_type": "code",
   "execution_count": 41,
   "id": "6fa71452",
   "metadata": {},
   "outputs": [
    {
     "data": {
      "text/plain": [
       "tpep_pickup_datetime\n",
       "2016-01-01 00:00:00     58.000000\n",
       "2016-01-01 00:15:00    114.363636\n",
       "2016-01-01 00:30:00    145.567568\n",
       "2016-01-01 00:45:00    158.558056\n",
       "2016-01-01 01:00:00    184.156062\n",
       "                          ...    \n",
       "2016-03-31 22:45:00     14.720768\n",
       "2016-03-31 23:00:00     16.772077\n",
       "2016-03-31 23:15:00     17.877208\n",
       "2016-03-31 23:30:00     13.487721\n",
       "2016-03-31 23:45:00     13.948772\n",
       "Name: total_pickups, Length: 262080, dtype: float64"
      ]
     },
     "execution_count": 41,
     "metadata": {},
     "output_type": "execute_result"
    }
   ],
   "source": [
    "resampled_data['total_pickups'].ewm(alpha=0.9).mean()"
   ]
  },
  {
   "cell_type": "code",
   "execution_count": 42,
   "id": "80b770a3",
   "metadata": {},
   "outputs": [
    {
     "data": {
      "text/plain": [
       "array([0.2, 0.3, 0.4, 0.5, 0.6, 0.7, 0.8, 0.9])"
      ]
     },
     "execution_count": 42,
     "metadata": {},
     "output_type": "execute_result"
    }
   ],
   "source": [
    "smoothing_values = np.arange(0.2,1,0.1)\n",
    "smoothing_values"
   ]
  },
  {
   "cell_type": "code",
   "execution_count": 43,
   "id": "28008260",
   "metadata": {},
   "outputs": [],
   "source": [
    "def calculate_best_smoothing_value(values):\n",
    "    y = resampled_data['total_pickups'].values\n",
    "    for value in values:\n",
    "        y_pred = resampled_data['total_pickups'].ewm(alpha=value).mean()\n",
    "        error = mean_absolute_percentage_error(y, y_pred)\n",
    "        print(f\"For smoothing value {value:.1f}, the MAPE is {error:.2f}\")"
   ]
  },
  {
   "cell_type": "code",
   "execution_count": 44,
   "id": "5b4c64a3",
   "metadata": {},
   "outputs": [
    {
     "name": "stdout",
     "output_type": "stream",
     "text": [
      "For smoothing value 0.2, the MAPE is 0.41\n",
      "For smoothing value 0.3, the MAPE is 0.27\n",
      "For smoothing value 0.4, the MAPE is 0.20\n",
      "For smoothing value 0.5, the MAPE is 0.16\n",
      "For smoothing value 0.6, the MAPE is 0.12\n",
      "For smoothing value 0.7, the MAPE is 0.09\n",
      "For smoothing value 0.8, the MAPE is 0.06\n",
      "For smoothing value 0.9, the MAPE is 0.03\n"
     ]
    }
   ],
   "source": [
    "\n",
    "\n",
    "calculate_best_smoothing_value(smoothing_values)\n",
    "\n"
   ]
  },
  {
   "cell_type": "code",
   "execution_count": 45,
   "id": "472f8a72",
   "metadata": {},
   "outputs": [
    {
     "data": {
      "text/html": [
       "<div>\n",
       "<style scoped>\n",
       "    .dataframe tbody tr th:only-of-type {\n",
       "        vertical-align: middle;\n",
       "    }\n",
       "\n",
       "    .dataframe tbody tr th {\n",
       "        vertical-align: top;\n",
       "    }\n",
       "\n",
       "    .dataframe thead th {\n",
       "        text-align: right;\n",
       "    }\n",
       "</style>\n",
       "<table border=\"1\" class=\"dataframe\">\n",
       "  <thead>\n",
       "    <tr style=\"text-align: right;\">\n",
       "      <th></th>\n",
       "      <th>region</th>\n",
       "      <th>total_pickups</th>\n",
       "      <th>avg_pickups</th>\n",
       "    </tr>\n",
       "    <tr>\n",
       "      <th>tpep_pickup_datetime</th>\n",
       "      <th></th>\n",
       "      <th></th>\n",
       "      <th></th>\n",
       "    </tr>\n",
       "  </thead>\n",
       "  <tbody>\n",
       "    <tr>\n",
       "      <th>2016-01-01 00:00:00</th>\n",
       "      <td>0</td>\n",
       "      <td>58</td>\n",
       "      <td>58.0</td>\n",
       "    </tr>\n",
       "    <tr>\n",
       "      <th>2016-01-01 00:15:00</th>\n",
       "      <td>0</td>\n",
       "      <td>120</td>\n",
       "      <td>97.0</td>\n",
       "    </tr>\n",
       "    <tr>\n",
       "      <th>2016-01-01 00:30:00</th>\n",
       "      <td>0</td>\n",
       "      <td>149</td>\n",
       "      <td>123.0</td>\n",
       "    </tr>\n",
       "    <tr>\n",
       "      <th>2016-01-01 00:45:00</th>\n",
       "      <td>0</td>\n",
       "      <td>160</td>\n",
       "      <td>140.0</td>\n",
       "    </tr>\n",
       "    <tr>\n",
       "      <th>2016-01-01 01:00:00</th>\n",
       "      <td>0</td>\n",
       "      <td>187</td>\n",
       "      <td>161.0</td>\n",
       "    </tr>\n",
       "    <tr>\n",
       "      <th>...</th>\n",
       "      <td>...</td>\n",
       "      <td>...</td>\n",
       "      <td>...</td>\n",
       "    </tr>\n",
       "    <tr>\n",
       "      <th>2016-03-31 22:45:00</th>\n",
       "      <td>29</td>\n",
       "      <td>14</td>\n",
       "      <td>16.0</td>\n",
       "    </tr>\n",
       "    <tr>\n",
       "      <th>2016-03-31 23:00:00</th>\n",
       "      <td>29</td>\n",
       "      <td>17</td>\n",
       "      <td>16.0</td>\n",
       "    </tr>\n",
       "    <tr>\n",
       "      <th>2016-03-31 23:15:00</th>\n",
       "      <td>29</td>\n",
       "      <td>18</td>\n",
       "      <td>17.0</td>\n",
       "    </tr>\n",
       "    <tr>\n",
       "      <th>2016-03-31 23:30:00</th>\n",
       "      <td>29</td>\n",
       "      <td>13</td>\n",
       "      <td>15.0</td>\n",
       "    </tr>\n",
       "    <tr>\n",
       "      <th>2016-03-31 23:45:00</th>\n",
       "      <td>29</td>\n",
       "      <td>14</td>\n",
       "      <td>15.0</td>\n",
       "    </tr>\n",
       "  </tbody>\n",
       "</table>\n",
       "<p>262080 rows × 3 columns</p>\n",
       "</div>"
      ],
      "text/plain": [
       "                      region  total_pickups  avg_pickups\n",
       "tpep_pickup_datetime                                    \n",
       "2016-01-01 00:00:00        0             58         58.0\n",
       "2016-01-01 00:15:00        0            120         97.0\n",
       "2016-01-01 00:30:00        0            149        123.0\n",
       "2016-01-01 00:45:00        0            160        140.0\n",
       "2016-01-01 01:00:00        0            187        161.0\n",
       "...                      ...            ...          ...\n",
       "2016-03-31 22:45:00       29             14         16.0\n",
       "2016-03-31 23:00:00       29             17         16.0\n",
       "2016-03-31 23:15:00       29             18         17.0\n",
       "2016-03-31 23:30:00       29             13         15.0\n",
       "2016-03-31 23:45:00       29             14         15.0\n",
       "\n",
       "[262080 rows x 3 columns]"
      ]
     },
     "execution_count": 45,
     "metadata": {},
     "output_type": "execute_result"
    }
   ],
   "source": [
    "\n",
    "\n",
    "# dataset with pickup smoothing applied\n",
    "\n",
    "resampled_data[\"avg_pickups\"] = resampled_data['total_pickups'].ewm(alpha=0.4).mean().round()\n",
    "\n",
    "resampled_data\n",
    "\n"
   ]
  },
  {
   "cell_type": "code",
   "execution_count": 46,
   "id": "eaf95a9e",
   "metadata": {},
   "outputs": [],
   "source": [
    "\n",
    "\n",
    "# save the resampled data\n",
    "\n",
    "resampled_data_save_path = \"../data/interim/final_data.csv\"\n",
    "\n",
    "resampled_data.to_csv(resampled_data_save_path, index=True)\n",
    "\n"
   ]
  },
  {
   "cell_type": "code",
   "execution_count": 47,
   "id": "641aa620",
   "metadata": {},
   "outputs": [
    {
     "data": {
      "text/plain": [
       "(262080, 3)"
      ]
     },
     "execution_count": 47,
     "metadata": {},
     "output_type": "execute_result"
    }
   ],
   "source": [
    "\n",
    "\n",
    "# shape of the data\n",
    "\n",
    "resampled_data.shape\n",
    "\n"
   ]
  },
  {
   "cell_type": "code",
   "execution_count": null,
   "id": "6e878713",
   "metadata": {},
   "outputs": [],
   "source": []
  }
 ],
 "metadata": {
  "kernelspec": {
   "display_name": "Python (dl_env)",
   "language": "python",
   "name": "dl_env"
  },
  "language_info": {
   "codemirror_mode": {
    "name": "ipython",
    "version": 3
   },
   "file_extension": ".py",
   "mimetype": "text/x-python",
   "name": "python",
   "nbconvert_exporter": "python",
   "pygments_lexer": "ipython3",
   "version": "3.12.3"
  }
 },
 "nbformat": 4,
 "nbformat_minor": 5
}
